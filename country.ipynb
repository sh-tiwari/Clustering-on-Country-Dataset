  {
   "cell_type": "markdown",
   "id": "44dacbfd",
   "metadata": {},
   "source": [
    "<h2>AIM:-To categorise the countries using socio-economic and health factors that determine the overall \n",
    "development of the country<h2/"
   ]
  },
  {
   "cell_type": "markdown",
   "id": "c995b4e1",
   "metadata": {},
   "source": [
    "<h3>IMPORT ALL NECESSARY LIBRARIES<h3/>"
   ]
  },
  {
   "cell_type": "code",
   "execution_count": 421,
   "id": "9d9ea1a7",
   "metadata": {},
   "outputs": [],
   "source": [
    "import pandas as pd\n",
    "import numpy as np\n",
    "\n",
    "import matplotlib.pyplot as plt\n",
    "import seaborn as sbn\n",
    "%matplotlib inline\n",
    "\n",
    "from sklearn.cluster import KMeans\n",
    "\n",
    "from sklearn import metrics\n",
    "from sklearn.metrics import accuracy_score,pairwise_distances\n",
    "\n",
    "from scipy.cluster.hierarchy import dendrogram, linkage\n",
    "from sklearn.cluster import AgglomerativeClustering\n",
    "\n",
    "import warnings\n",
    "warnings.filterwarnings(\"ignore\")"
   ]
  },
  {
   "cell_type": "markdown",
   "id": "15e04c75",
   "metadata": {},
   "source": [
    "<h3>ANALYSIS AND CLEANING OF DATA :-<h3/>"
   ]
  },
  {
   "cell_type": "markdown",
   "id": "5d6e9f62",
   "metadata": {},
   "source": [
    "<h4>DISPLAY THE DESCRITION OF DATA-DICTIONARY.<h4/>"
   ]
  },
  {
   "cell_type": "code",
   "execution_count": 476,
   "id": "fc47a105",
   "metadata": {},
   "outputs": [
    {
     "data": {
      "text/html": [
       "<div>\n",
       "<style scoped>\n",
       "    .dataframe tbody tr th:only-of-type {\n",
       "        vertical-align: middle;\n",
       "    }\n",
       "\n",
       "    .dataframe tbody tr th {\n",
       "        vertical-align: top;\n",
       "    }\n",
       "\n",
       "    .dataframe thead th {\n",
       "        text-align: right;\n",
       "    }\n",
       "</style>\n",
       "<table border=\"1\" class=\"dataframe\">\n",
       "  <thead>\n",
       "    <tr style=\"text-align: right;\">\n",
       "      <th></th>\n",
       "      <th>Column Name</th>\n",
       "      <th>Description</th>\n",
       "    </tr>\n",
       "  </thead>\n",
       "  <tbody>\n",
       "    <tr>\n",
       "      <th>0</th>\n",
       "      <td>country</td>\n",
       "      <td>Name of the country</td>\n",
       "    </tr>\n",
       "    <tr>\n",
       "      <th>1</th>\n",
       "      <td>child_mort</td>\n",
       "      <td>Death of children under 5 years of age per 1000 live births</td>\n",
       "    </tr>\n",
       "    <tr>\n",
       "      <th>2</th>\n",
       "      <td>exports</td>\n",
       "      <td>Exports of goods and services per capita. Given as %age of the GDP per capita</td>\n",
       "    </tr>\n",
       "    <tr>\n",
       "      <th>3</th>\n",
       "      <td>health</td>\n",
       "      <td>Total health spending per capita. Given as %age of GDP per capita</td>\n",
       "    </tr>\n",
       "    <tr>\n",
       "      <th>4</th>\n",
       "      <td>imports</td>\n",
       "      <td>Imports of goods and services per capita. Given as %age of the GDP per capita</td>\n",
       "    </tr>\n",
       "    <tr>\n",
       "      <th>5</th>\n",
       "      <td>Income</td>\n",
       "      <td>Net income per person</td>\n",
       "    </tr>\n",
       "    <tr>\n",
       "      <th>6</th>\n",
       "      <td>Inflation</td>\n",
       "      <td>The measurement of the annual growth rate of the Total GDP</td>\n",
       "    </tr>\n",
       "    <tr>\n",
       "      <th>7</th>\n",
       "      <td>life_expec</td>\n",
       "      <td>The average number of years a new born child would live if the current mortality patterns are to remain the same</td>\n",
       "    </tr>\n",
       "    <tr>\n",
       "      <th>8</th>\n",
       "      <td>total_fer</td>\n",
       "      <td>The number of children that would be born to each woman if the current age-fertility rates remain the same.</td>\n",
       "    </tr>\n",
       "    <tr>\n",
       "      <th>9</th>\n",
       "      <td>gdpp</td>\n",
       "      <td>The GDP per capita. Calculated as the Total GDP divided by the total population.</td>\n",
       "    </tr>\n",
       "  </tbody>\n",
       "</table>\n",
       "</div>"
      ],
      "text/plain": [
       "  Column Name  \\\n",
       "0     country   \n",
       "1  child_mort   \n",
       "2     exports   \n",
       "3      health   \n",
       "4     imports   \n",
       "5      Income   \n",
       "6   Inflation   \n",
       "7  life_expec   \n",
       "8   total_fer   \n",
       "9        gdpp   \n",
       "\n",
       "                                                                                                        Description  \n",
       "0                                                                                               Name of the country  \n",
       "1                                                       Death of children under 5 years of age per 1000 live births  \n",
       "2                                     Exports of goods and services per capita. Given as %age of the GDP per capita  \n",
       "3                                                 Total health spending per capita. Given as %age of GDP per capita  \n",
       "4                                     Imports of goods and services per capita. Given as %age of the GDP per capita  \n",
       "5                                                                                             Net income per person  \n",
       "6                                                        The measurement of the annual growth rate of the Total GDP  \n",
       "7  The average number of years a new born child would live if the current mortality patterns are to remain the same  \n",
       "8       The number of children that would be born to each woman if the current age-fertility rates remain the same.  \n",
       "9                                  The GDP per capita. Calculated as the Total GDP divided by the total population.  "
      ]
     },
     "execution_count": 476,
     "metadata": {},
     "output_type": "execute_result"
    }
   ],
   "source": [
    "definition=pd.read_csv('data-dictionary.csv')\n",
    "pd.set_option(\"display.max_colwidth\",None)\n",
    "definition"
   ]
  },
  {
   "cell_type": "markdown",
   "id": "52cc258c",
   "metadata": {},
   "source": [
    "<h4>DISPLAY THE DATA OF COUNTRIES <h4/>"
   ]
  },
  {
   "cell_type": "code",
   "execution_count": 423,
   "id": "751c9fb6",
   "metadata": {},
   "outputs": [
    {
     "data": {
      "text/html": [
       "<div>\n",
       "<style scoped>\n",
       "    .dataframe tbody tr th:only-of-type {\n",
       "        vertical-align: middle;\n",
       "    }\n",
       "\n",
       "    .dataframe tbody tr th {\n",
       "        vertical-align: top;\n",
       "    }\n",
       "\n",
       "    .dataframe thead th {\n",
       "        text-align: right;\n",
       "    }\n",
       "</style>\n",
       "<table border=\"1\" class=\"dataframe\">\n",
       "  <thead>\n",
       "    <tr style=\"text-align: right;\">\n",
       "      <th></th>\n",
       "      <th>country</th>\n",
       "      <th>child_mort</th>\n",
       "      <th>exports</th>\n",
       "      <th>health</th>\n",
       "      <th>imports</th>\n",
       "      <th>income</th>\n",
       "      <th>inflation</th>\n",
       "      <th>life_expec</th>\n",
       "      <th>total_fer</th>\n",
       "      <th>gdpp</th>\n",
       "    </tr>\n",
       "  </thead>\n",
       "  <tbody>\n",
       "    <tr>\n",
       "      <th>0</th>\n",
       "      <td>Afghanistan</td>\n",
       "      <td>90.2</td>\n",
       "      <td>10.0</td>\n",
       "      <td>7.58</td>\n",
       "      <td>44.9</td>\n",
       "      <td>1610</td>\n",
       "      <td>9.44</td>\n",
       "      <td>56.2</td>\n",
       "      <td>5.82</td>\n",
       "      <td>553</td>\n",
       "    </tr>\n",
       "    <tr>\n",
       "      <th>1</th>\n",
       "      <td>Albania</td>\n",
       "      <td>16.6</td>\n",
       "      <td>28.0</td>\n",
       "      <td>6.55</td>\n",
       "      <td>48.6</td>\n",
       "      <td>9930</td>\n",
       "      <td>4.49</td>\n",
       "      <td>76.3</td>\n",
       "      <td>1.65</td>\n",
       "      <td>4090</td>\n",
       "    </tr>\n",
       "    <tr>\n",
       "      <th>2</th>\n",
       "      <td>Algeria</td>\n",
       "      <td>27.3</td>\n",
       "      <td>38.4</td>\n",
       "      <td>4.17</td>\n",
       "      <td>31.4</td>\n",
       "      <td>12900</td>\n",
       "      <td>16.10</td>\n",
       "      <td>76.5</td>\n",
       "      <td>2.89</td>\n",
       "      <td>4460</td>\n",
       "    </tr>\n",
       "    <tr>\n",
       "      <th>3</th>\n",
       "      <td>Angola</td>\n",
       "      <td>119.0</td>\n",
       "      <td>62.3</td>\n",
       "      <td>2.85</td>\n",
       "      <td>42.9</td>\n",
       "      <td>5900</td>\n",
       "      <td>22.40</td>\n",
       "      <td>60.1</td>\n",
       "      <td>6.16</td>\n",
       "      <td>3530</td>\n",
       "    </tr>\n",
       "    <tr>\n",
       "      <th>4</th>\n",
       "      <td>Antigua and Barbuda</td>\n",
       "      <td>10.3</td>\n",
       "      <td>45.5</td>\n",
       "      <td>6.03</td>\n",
       "      <td>58.9</td>\n",
       "      <td>19100</td>\n",
       "      <td>1.44</td>\n",
       "      <td>76.8</td>\n",
       "      <td>2.13</td>\n",
       "      <td>12200</td>\n",
       "    </tr>\n",
       "  </tbody>\n",
       "</table>\n",
       "</div>"
      ],
      "text/plain": [
       "               country  child_mort  exports  health  imports  income  \\\n",
       "0          Afghanistan        90.2     10.0    7.58     44.9    1610   \n",
       "1              Albania        16.6     28.0    6.55     48.6    9930   \n",
       "2              Algeria        27.3     38.4    4.17     31.4   12900   \n",
       "3               Angola       119.0     62.3    2.85     42.9    5900   \n",
       "4  Antigua and Barbuda        10.3     45.5    6.03     58.9   19100   \n",
       "\n",
       "   inflation  life_expec  total_fer   gdpp  \n",
       "0       9.44        56.2       5.82    553  \n",
       "1       4.49        76.3       1.65   4090  \n",
       "2      16.10        76.5       2.89   4460  \n",
       "3      22.40        60.1       6.16   3530  \n",
       "4       1.44        76.8       2.13  12200  "
      ]
     },
     "execution_count": 423,
     "metadata": {},
     "output_type": "execute_result"
    }
   ],
   "source": [
    "data=pd.read_csv('Country-data.csv')\n",
    "data.head()"
   ]
  },
  {
   "cell_type": "markdown",
   "id": "e86cbf9f",
   "metadata": {},
   "source": [
    "Here, exports, heath and imports variables are in percenatge of the total GDPpp format. So, It is converted into actual value on the basis of GDPP as below:-"
   ]
  },
  {
   "cell_type": "markdown",
   "id": "3317119e",
   "metadata": {},
   "source": [
    "<h4>CALCUTATING  IMPORT , EXPORT ,AND HEATH <h4/>"
   ]
  },
  {
   "cell_type": "code",
   "execution_count": 424,
   "id": "5649627b",
   "metadata": {},
   "outputs": [],
   "source": [
    "data.imports=(data.imports*data.gdpp)/100\n",
    "data.exports=(data.exports*data.gdpp)/100\n",
    "data.health=(data.health*data.gdpp)/100"
   ]
  },
  {
   "cell_type": "code",
   "execution_count": 425,
   "id": "ed52bf97",
   "metadata": {},
   "outputs": [
    {
     "data": {
      "text/html": [
       "<div>\n",
       "<style scoped>\n",
       "    .dataframe tbody tr th:only-of-type {\n",
       "        vertical-align: middle;\n",
       "    }\n",
       "\n",
       "    .dataframe tbody tr th {\n",
       "        vertical-align: top;\n",
       "    }\n",
       "\n",
       "    .dataframe thead th {\n",
       "        text-align: right;\n",
       "    }\n",
       "</style>\n",
       "<table border=\"1\" class=\"dataframe\">\n",
       "  <thead>\n",
       "    <tr style=\"text-align: right;\">\n",
       "      <th></th>\n",
       "      <th>country</th>\n",
       "      <th>child_mort</th>\n",
       "      <th>exports</th>\n",
       "      <th>health</th>\n",
       "      <th>imports</th>\n",
       "      <th>income</th>\n",
       "      <th>inflation</th>\n",
       "      <th>life_expec</th>\n",
       "      <th>total_fer</th>\n",
       "      <th>gdpp</th>\n",
       "    </tr>\n",
       "  </thead>\n",
       "  <tbody>\n",
       "    <tr>\n",
       "      <th>0</th>\n",
       "      <td>Afghanistan</td>\n",
       "      <td>90.2</td>\n",
       "      <td>55.30</td>\n",
       "      <td>41.9174</td>\n",
       "      <td>248.297</td>\n",
       "      <td>1610</td>\n",
       "      <td>9.44</td>\n",
       "      <td>56.2</td>\n",
       "      <td>5.82</td>\n",
       "      <td>553</td>\n",
       "    </tr>\n",
       "    <tr>\n",
       "      <th>1</th>\n",
       "      <td>Albania</td>\n",
       "      <td>16.6</td>\n",
       "      <td>1145.20</td>\n",
       "      <td>267.8950</td>\n",
       "      <td>1987.740</td>\n",
       "      <td>9930</td>\n",
       "      <td>4.49</td>\n",
       "      <td>76.3</td>\n",
       "      <td>1.65</td>\n",
       "      <td>4090</td>\n",
       "    </tr>\n",
       "    <tr>\n",
       "      <th>2</th>\n",
       "      <td>Algeria</td>\n",
       "      <td>27.3</td>\n",
       "      <td>1712.64</td>\n",
       "      <td>185.9820</td>\n",
       "      <td>1400.440</td>\n",
       "      <td>12900</td>\n",
       "      <td>16.10</td>\n",
       "      <td>76.5</td>\n",
       "      <td>2.89</td>\n",
       "      <td>4460</td>\n",
       "    </tr>\n",
       "    <tr>\n",
       "      <th>3</th>\n",
       "      <td>Angola</td>\n",
       "      <td>119.0</td>\n",
       "      <td>2199.19</td>\n",
       "      <td>100.6050</td>\n",
       "      <td>1514.370</td>\n",
       "      <td>5900</td>\n",
       "      <td>22.40</td>\n",
       "      <td>60.1</td>\n",
       "      <td>6.16</td>\n",
       "      <td>3530</td>\n",
       "    </tr>\n",
       "    <tr>\n",
       "      <th>4</th>\n",
       "      <td>Antigua and Barbuda</td>\n",
       "      <td>10.3</td>\n",
       "      <td>5551.00</td>\n",
       "      <td>735.6600</td>\n",
       "      <td>7185.800</td>\n",
       "      <td>19100</td>\n",
       "      <td>1.44</td>\n",
       "      <td>76.8</td>\n",
       "      <td>2.13</td>\n",
       "      <td>12200</td>\n",
       "    </tr>\n",
       "  </tbody>\n",
       "</table>\n",
       "</div>"
      ],
      "text/plain": [
       "               country  child_mort  exports    health   imports  income  \\\n",
       "0          Afghanistan        90.2    55.30   41.9174   248.297    1610   \n",
       "1              Albania        16.6  1145.20  267.8950  1987.740    9930   \n",
       "2              Algeria        27.3  1712.64  185.9820  1400.440   12900   \n",
       "3               Angola       119.0  2199.19  100.6050  1514.370    5900   \n",
       "4  Antigua and Barbuda        10.3  5551.00  735.6600  7185.800   19100   \n",
       "\n",
       "   inflation  life_expec  total_fer   gdpp  \n",
       "0       9.44        56.2       5.82    553  \n",
       "1       4.49        76.3       1.65   4090  \n",
       "2      16.10        76.5       2.89   4460  \n",
       "3      22.40        60.1       6.16   3530  \n",
       "4       1.44        76.8       2.13  12200  "
      ]
     },
     "execution_count": 425,
     "metadata": {},
     "output_type": "execute_result"
    }
   ],
   "source": [
    "data.head()"
   ]
  },
  {
   "cell_type": "markdown",
   "id": "4a72053d",
   "metadata": {},
   "source": [
    " <h4>HERE WE FIND NULL VALUES IN THE COUNTRY DATA SET<h4/> "
   ]
  },
  {
   "cell_type": "code",
   "execution_count": 426,
   "id": "25931baf",
   "metadata": {},
   "outputs": [
    {
     "data": {
      "text/plain": [
       "country       0\n",
       "child_mort    0\n",
       "exports       0\n",
       "health        0\n",
       "imports       0\n",
       "income        0\n",
       "inflation     0\n",
       "life_expec    0\n",
       "total_fer     0\n",
       "gdpp          0\n",
       "dtype: int64"
      ]
     },
     "execution_count": 426,
     "metadata": {},
     "output_type": "execute_result"
    }
   ],
   "source": [
    "data.isnull().sum()"
   ]
  },
  {
   "cell_type": "markdown",
   "id": "f7f3158c",
   "metadata": {},
   "source": [
    "As shown there is no null values it is good for us so we wouldnot want alter the data set"
   ]
  },
  {
   "cell_type": "markdown",
   "id": "6c6e7915",
   "metadata": {},
   "source": [
    "<h4>HERE WE ARE FIND DUPLICATE ROWS AND COLUMN IN DATA SET <h4/>"
   ]
  },
  {
   "cell_type": "code",
   "execution_count": 427,
   "id": "0141f714",
   "metadata": {},
   "outputs": [
    {
     "data": {
      "text/plain": [
       "0"
      ]
     },
     "execution_count": 427,
     "metadata": {},
     "output_type": "execute_result"
    }
   ],
   "source": [
    "data.duplicated().sum()"
   ]
  },
  {
   "cell_type": "markdown",
   "id": "be348156",
   "metadata": {},
   "source": [
    "There is no duplicates find "
   ]
  },
  {
   "cell_type": "markdown",
   "id": "ca0e9950",
   "metadata": {},
   "source": [
    "<h4>TOP 10 COUNTRIES WITH HIGHEST MORTALITY RATE <h4/>"
   ]
  },
  {
   "cell_type": "code",
   "execution_count": 428,
   "id": "8b7a8ff9",
   "metadata": {},
   "outputs": [
    {
     "data": {
      "image/png": "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\n",
      "text/plain": [
       "<Figure size 864x504 with 1 Axes>"
      ]
     },
     "metadata": {
      "needs_background": "light"
     },
     "output_type": "display_data"
    }
   ],
   "source": [
    "fig= plt.figure(figsize = (12,7))\n",
    "\n",
    "# Child Mortality Rate : Death of children under 5 years of age per 1000 live births\n",
    "\n",
    "top10_child_mort = data[['country','child_mort']].sort_values('child_mort', ascending = False).head(10)\n",
    "plt1 = sbn.barplot(x='country', y='child_mort', data= top10_child_mort)\n",
    "plt1.set(xlabel='',ylabel= 'Child Mortality Rate')\n",
    "\n",
    "\n",
    "plt.title(\"Top 10 Countreis with high mortality rate\")\n",
    "plt.show()"
   ]
  },
  {
   "cell_type": "markdown",
   "id": "ede779b2",
   "metadata": {},
   "source": [
    "<h4>TOP 10 COUNTRIES WITH HIGHEST FERTILITY RATE <h4/>"
   ]
  },
  {
   "cell_type": "code",
   "execution_count": 429,
   "id": "4aaa5eb8",
   "metadata": {},
   "outputs": [
    {
     "data": {
      "image/png": "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\n",
      "text/plain": [
       "<Figure size 864x504 with 1 Axes>"
      ]
     },
     "metadata": {
      "needs_background": "light"
     },
     "output_type": "display_data"
    }
   ],
   "source": [
    "fig= plt.figure(figsize = (12,7))\n",
    "# Fertility Rate: The number of children that would be born to each woman if the current age-fertility rates remain the same\n",
    "top10_total_fer = data[['country','total_fer']].sort_values('total_fer', ascending = False).head(10)\n",
    "plt1 = sbn.barplot(x='country', y='total_fer', data= top10_total_fer)\n",
    "plt1.set(xlabel='',ylabel= 'Fertility Rate')\n",
    "plt.title(\"Top 10 Countreis with high fertility rate\")\n",
    "plt.show()    "
   ]
  },
  {
   "cell_type": "markdown",
   "id": "f421d9b3",
   "metadata": {},
   "source": [
    "<h4>TOP 10 COUNTRIES WITH LOWEST LIFE EXPENTANCY<H4/>"
   ]
  },
  {
   "cell_type": "code",
   "execution_count": 430,
   "id": "900628c0",
   "metadata": {},
   "outputs": [
    {
     "data": {
      "image/png": "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\n",
      "text/plain": [
       "<Figure size 864x504 with 1 Axes>"
      ]
     },
     "metadata": {
      "needs_background": "light"
     },
     "output_type": "display_data"
    }
   ],
   "source": [
    "fig= plt.figure(figsize = (12,7))\n",
    "# Life Expectancy: The average number of years a new born child would live if the current mortality patterns are to remain same\n",
    "\n",
    "bottom10_life_expec = data[['country','life_expec']].sort_values('life_expec', ascending = True).head(10)\n",
    "plt1 = sbn.barplot(x='country', y='life_expec', data= bottom10_life_expec)\n",
    "plt1.set(xlabel = '', ylabel= 'Life Expectancy')\n",
    "plt.title(\"Top 10 Countreis with Lowest Life Expectancy\")\n",
    "plt.show()"
   ]
  },
  {
   "cell_type": "markdown",
   "id": "331f391f",
   "metadata": {},
   "source": [
    "<H4>TOP 10 COUNTRIES WITH LOWEST HEALTH CARE <H4/>"
   ]
  },
  {
   "cell_type": "code",
   "execution_count": 431,
   "id": "43d1b4a2",
   "metadata": {},
   "outputs": [
    {
     "data": {
      "image/png": "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\n",
      "text/plain": [
       "<Figure size 864x504 with 1 Axes>"
      ]
     },
     "metadata": {
      "needs_background": "light"
     },
     "output_type": "display_data"
    }
   ],
   "source": [
    "fig= plt.figure(figsize = (12,7))\n",
    "# Health :Total health spending as %age of Total GDP.\n",
    "bottom10_health = data[['country','health']].sort_values('health', ascending = True).head(10)\n",
    "plt1 = sbn.barplot(x='country', y='health', data= bottom10_health)\n",
    "plt1.set(xlabel = '', ylabel= 'Health')\n",
    "plt.title(\"Top 10 Countreis with Lowest Health rate\")\n",
    "plt.show()  \n"
   ]
  },
  {
   "cell_type": "markdown",
   "id": "61cd4c0f",
   "metadata": {},
   "source": [
    "<H4>TOP 10 COUNTRIES WITH LOWEST GDP PER PERSON <H4/>"
   ]
  },
  {
   "cell_type": "code",
   "execution_count": 432,
   "id": "3fc76a96",
   "metadata": {},
   "outputs": [
    {
     "data": {
      "image/png": "iVBORw0KGgoAAAANSUhEUgAAAtQAAAGrCAYAAADgsQB5AAAAOXRFWHRTb2Z0d2FyZQBNYXRwbG90bGliIHZlcnNpb24zLjUuMSwgaHR0cHM6Ly9tYXRwbG90bGliLm9yZy/YYfK9AAAACXBIWXMAAAsTAAALEwEAmpwYAAAyHklEQVR4nO3deZwkdX3/8dcbUEAuwQVEQEFFIxrFCHgLiokaD4iCQFAhUYnxircY8zNoJBpjjAcxEY2KF7jiARqjIgpeCCzKqRIQUC5hAUFA5Pz8/qjvsL3D9GzP1vTMDvt6Ph7zmOrqqupPV1dVv/tb365OVSFJkiRp5awx3wVIkiRJC5mBWpIkSerBQC1JkiT1YKCWJEmSejBQS5IkST0YqCVJkqQeDNSS1EOSs5PsOqZl75fkW9Pcv2uSi8fx2JKk0RmopbuYJNcP/N2e5MaB2/vN0mM8P8mPkvw+yfFT3L9DklPb/acm2WEFy9s5ydeTXJPk6iQnJ/mr2ah1BY97fJKX9FlGVT20qo6fpZImL/uzVfVnE7eTVJIHruzyZuP5zrYkByf5zAjT7ZPkpCQ3JLmiDb88Sdr9n0xyc5Lr2t9ZSd6VZKOBZRyQ5La2L/wuyWlJnjXO5ydp9WCglu5iqmr9iT/g18CzB8Z9dpYe5mrg/cC7J9+R5O7A0cBngI2Bw4Gj2/g7SfJY4DvACcADgXsBfws8Y5ZqXWlJ1prvGgRJXg98APhX4N7A5sDLgMcDg9vVe6pqA2BT4K+AxwA/TLLewDQntn3jnsB/A4uTbDLm+se6HbmdSvPPQC2tJpKsneT9SS5tf+9Psna7b9ckFyf5+yRXJrlwutbsqvp2VS0GLp3i7l2BtYD3V9VNVfVBIMBThizuX4HDq+pfqurK6pxaVc8fqP2lSc5rrdfHJLlPG79Na7Vda2DaO1phW4vkD5K8N8lvk1yQ5BntvkOAJwKHthbLQ9v4SvKKJOcC57Zxz2qtmde0lvmHDzzehUme2oZ3TrKktX5enuR9Q16LE5I8rw0/oT3mn7fbT01y2mD9bfh7bfbTW717Dyzv9a3V9rKVadlPskaSf0jyq7acT0207CY5vAVakmzZan15u/3A9ppMtBJPt57enOSS1np8TpLdkjwd+Htg7/acTp+ito2AdwAvr6qjquq6to38tKr2q6qbJs9TVX+oqlOA59B9QLvTOqmq24GPA+sC95/icQ9I8sMkH0pybZJfJNltsK4k/93W+SVJ3plkzUnz/nuSq4GDp1j+wUmOSvL5tk5+kuQRA/ffJ8kXkyxt2+2rp5j3M0l+Bxww3baX5DnpuiZd0/aPhwzcd2GSNyQ5oz3PzydZZ3K9kqZnoJZWH2+la7HbAXgEsDPwDwP33xtYBGwJ7A8cluTBK/E4DwXOqKoaGHdGG7+cJPcAHgscNWxhSZ4CvAt4PrAF8CvgyBnU82jgHLrn9h7gv5Okqt4KfB94ZWu9f+XAPHu0+bZP8id0wetv6MLZR4Bj0j6MTPIB4ANVtSHwAGDxkJpOoPvgAfAk4Hxgl4HbJ0yeoaqe1AYf0er9fLt9b2AjutftxcB/JNl4yOMOc0D7ezJduFwfOHSKWneZotbvV1VNt57advRKYKfWgvw04MKq+gbwz8Dn23O6I1AOeCywNt1ZjxmpquuAY+k+OC0n3YewlwDX0z44TeHR7fkuAv4R+FKWtWYfDtxKd1blkcCfteVNnncz4JAhy98d+AKwCfA54CtJ7pZkDeCrwOl0r+tuwGuSPG3SvEfRtbR/liHbXpIHAUcAr6Fruf868NUsf8bo+cDTgW2Bh9NtC5JmwEAtrT72A95RVVdU1VLg7cALJ03z/1qr8gnA/9C90c7U+sC1k8ZdC2wwxbQb0x2HLltB3R+vqp+01si3AI9Nss2I9fyqqj5aVbfRhaAt6LoMTOddVXV1Vd0IvBT4SFWdVFW3VdXhwE10H04muwV4YJJFVXV9Vf14yPJPYPlQ+q6B27swRaCexi10r+stVfV1uoA40w9C+wHvq6rzq+p6unW8TwudJwBPbCHvSXQfSh4/Ra3Trafb6ELx9knuVlUXVtUvR6xtEXBlVd06MaK1fl+T7vsBT5pmXujOogx26XhMkmuA3wD7An9RVZO31wlX0J1puaV9gDkHeGaSzem6JL2mqm6oqiuAfwf2GXzcqvpQVd3atqOpnNpa3W8B3gesQ7e+dgI2rap3VNXNVXU+8NFJyz+xqr5SVbe35Q/b9vYG/qeqjm2P8166VvnHDSzrg1V1aVVdTRfkdxhSr6QhDNTS6uM+dK27E37Vxk34bVXdMM39o7oe2HDSuA2B66aY9rfA7XQhd5jl6m6B7yq6lrtR/GZg3t+3wfVXMM9FA8P3A17fAtw1LYxtzdTr5sXAg4BfJDklw7/wdiLwoBbMdgA+BWydZBHdmYPvDZlvKlcNhk3g96z4+U021baxFrB5C77XtzqfCHwNuLS1Og8G6qHrqarOo2shPRi4IsmRad12Rnl+wKIMdOupqsdV1T3bfSt6H9uSrs//hB9X1T2ralFVPaaqvj3NvJdMOtMysU/cD7gbcNnAc/0IXWv0hMFtaJg7pmldUC4eWP59Jq3Lv2f5D4KTlz9s25u8/9ze5h3cf34zMLwy24+02jNQS6uPS+neqCfcl+X7QG+c5b+8Nfn+UZ0NPHyiX23z8DZ+OS3gngg8b5rlLVd3q/FewCXAxAeAewxMf+8Z1FojjL8IOKSFsIm/e1TVEXeaqercqtqXLlj9C3DUpHU6Md3vgVOBvwPOqqqbgR8BrwN+WVVXzuA5zIapto1bgcvb7ROAPYG7V9Ul7faL6M4wnNammXY9VdXnquoJ7XGKbv3A8Ndgwol0Ld27z/RJJVkfeCpd156VseWk7Xhin7io1bRo4LluWFWD3ZpW9Lyg+8AxUesawFYDy79g0rrcoKr+fNjyp9n2Ju8/aY97yQj1SRqRgVpafRwB/EOSTVtL6NvorsQx6O1J7p7kicCz6Pp33kmSNdsXl9YC1kiyTpK7tbuPpzvF/+rWf3aib/J3htT1JrovVb0xyb3a8h+RZKKf9OeAv0p3Kb616frcntS6DSylCwYvaDX9NV3/0VFdzhRfSJvko8DLkjw6nfWSPDPJnbqwJHlBkk1bK+A1bfRtQ5Z7Al2/4okW3uMn3V7ZeldkrfZ6rTPwuh0BvDbJti2ETvRrnmj5nqh1ouX8eOBVwA9aVxqYZj0leXCSp7TX7w/AjSxbL5cD27RAeSdVdQ1d96QPJ9kzyfrpvkS5A3CnDytwxxdwHwV8he4syCdWYj1BF05f3fo17wU8BPh6VV0GfAv4tyQbtnoekGSXaZd2Z49K8tzW+v4aupD+Y+Bk4Hfpvsi5btu2H5Zkp2ELmmbbW0zXTWW39lq/vj3Oj2ZYq6RpGKil1cc7gSV0XxA8E/hJGzfhN3Th41K6Lzm9rKp+MWRZL6QLRf9J1w3gRrpARWtt3YOuBfMa4K+BPdr4O6mqH9FdAeQpwPnpropwGN2Xp6iq44D/B3yRrq/1A1i+L+lLgTfSnf5/KDMLCh8A9kx3BZAPDqlvSXuMQ+nWz3kM/9LW04Gzk1zflr1PVf1hyLQn0PUr/96Q21M5GDi8dQNYmf7t0L1mNw78fYLuy4Sfbo99AV3ofdU0tf6A7qzAHbWuYD2tTXeJxSvptrPN6LowwLIPbVcl+clUBVfVe+ha799E16/5crouFm9m+df7TUmuo+vi8Sm6swCPm9SVaSZOArZrdR8C7FlVV7X7XkR3yb6fted7FNN3XZrK0XR9nH9Lt089t/XXvg14Nl03mwva43+M7sunw0y57VXVOcALgA+15Tyb7lKaU+6PklZOlu8eJml1lO6X/j5TVVvNcynSKiHJAcBLWjeVcSz/YOCBVfWCcSxf0tyyhVqSJEnqwUAtSZIk9WCXD0mSJKkHW6glSZKkHtZa8SSrrkWLFtU222wz32VIkiTpLu7UU0+9sqo2neq+BR2ot9lmG5YsWTLfZUiSJOkuLsmvht031i4fSS5McmaS05IsaeM2SXJsknPb/40Hpn9LkvOSnJPkaeOsTZIkSZoNc9GH+slVtUNV7dhuHwQcV1XbAce12yTZnu7HGh5Kd4H6DydZcw7qkyRJklbafHwpcXfg8DZ8ON0vqk2MP7KqbqqqC+h+ZWvnuS9PkiRJGt24A3UB30pyapID27jNq+oygPZ/szZ+S+CigXkvbuOWk+TAJEuSLFm6dOkYS5ckSZJWbNxfSnx8VV2aZDPg2CS/mGbaTDHuThfJrqrDgMMAdtxxRy+iLUmSpHk11hbqqrq0/b8C+DJdF47Lk2wB0P5f0Sa/GNh6YPatgEvHWZ8kSZLU19gCdZL1kmwwMQz8GXAWcAywf5tsf+DoNnwMsE+StZNsC2wHnDyu+iRJkqTZMM4uH5sDX04y8Tifq6pvJDkFWJzkxcCvgb0AqursJIuBnwG3Aq+oqtvGWJ8kSZLU29gCdVWdDzxiivFXAbsNmecQ4JBx1SRJkiTNtvm4bJ4kSZJ0l2GgliRJknowUEuSJEk9GKglSZKkHgzUkiRJUg8GakmSJKkHA7UkSZLUwzh/2EWSJEl3UY846pvzXcKsO33Pp63UfLZQS5IkST0YqCVJkqQeDNSSJElSDwZqSZIkqQcDtSRJktSDgVqSJEnqwUAtSZIk9WCgliRJknowUEuSJEk9GKglSZKkHgzUkiRJUg8GakmSJKkHA7UkSZLUg4FakiRJ6sFALUmSJPVgoJYkSZJ6MFBLkiRJPaw13wVIkiQtFIu/sPN8lzDrnr/XyfNdwoJnC7UkSZLUg4FakiRJ6sFALUmSJPVgoJYkSZJ6MFBLkiRJPRioJUmSpB4M1JIkSVIPBmpJkiSpB3/YRZIkTevggw+e7xJm3V3xOWn+2EItSZIk9WCgliRJknowUEuSJEk9GKglSZKkHgzUkiRJUg8GakmSJKkHA7UkSZLUg4FakiRJ6sFALUmSJPVgoJYkSZJ6MFBLkiRJPRioJUmSpB4M1JIkSVIPBmpJkiSpBwO1JEmS1IOBWpIkSerBQC1JkiT1YKCWJEmSejBQS5IkST0YqCVJkqQe1prvAiRJWhX9/JDvzHcJs+4hb33KfJcg3SXZQi1JkiT1YKCWJEmSejBQS5IkST3Yh1qSdIdDXrDnfJcw6976maPmuwRJd3G2UEuSJEk9GKglSZKkHgzUkiRJUg8GakmSJKkHA7UkSZLUg4FakiRJ6mHsgTrJmkl+muRr7fYmSY5Ncm77v/HAtG9Jcl6Sc5I8bdy1SZIkSX3NRQv13wE/H7h9EHBcVW0HHNduk2R7YB/gocDTgQ8nWXMO6pMkSZJW2lgDdZKtgGcCHxsYvTtweBs+HNhjYPyRVXVTVV0AnAfsPM76JEmSpL7G3UL9fuBNwO0D4zavqssA2v/N2vgtgYsGpru4jVtOkgOTLEmyZOnSpWMpWpIkSRrV2H56PMmzgCuq6tQku44yyxTj6k4jqg4DDgPYcccd73S/JM3Uoa//6nyXMOte+W/Pnu8SJGm1MbZADTweeE6SPwfWATZM8hng8iRbVNVlSbYArmjTXwxsPTD/VsClY6xPkiRJ6m1sXT6q6i1VtVVVbUP3ZcPvVNULgGOA/dtk+wNHt+FjgH2SrJ1kW2A74ORx1SdJkiTNhnG2UA/zbmBxkhcDvwb2Aqiqs5MsBn4G3Aq8oqpum4f6JEmSpJHNSaCuquOB49vwVcBuQ6Y7BDhkLmqSJEmSZoO/lChJkiT1YKCWJEmSejBQS5IkST0YqCVJkqQeDNSSJElSDwZqSZIkqQcDtSRJktSDgVqSJEnqwUAtSZIk9WCgliRJknowUEuSJEk9GKglSZKkHgzUkiRJUg8GakmSJKkHA7UkSZLUg4FakiRJ6sFALUmSJPVgoJYkSZJ6MFBLkiRJPRioJUmSpB4M1JIkSVIPBmpJkiSpBwO1JEmS1IOBWpIkSerBQC1JkiT1YKCWJEmSejBQS5IkST0YqCVJkqQeDNSSJElSDwZqSZIkqQcDtSRJktSDgVqSJEnqwUAtSZIk9bDWfBcgaX6c8KRd5ruEWbfL906Y7xIkSashW6glSZKkHgzUkiRJUg8GakmSJKkHA7UkSZLUg4FakiRJ6sFALUmSJPVgoJYkSZJ6MFBLkiRJPRioJUmSpB4M1JIkSVIP/vS4ViuP/9Dj57uEsfjhq3443yVIkrTasoVakiRJ6sFALUmSJPVgoJYkSZJ6MFBLkiRJPfilxNXAr9/xx/Ndwljc921nzncJkiRJtlBLkiRJfRioJUmSpB4M1JIkSVIPBmpJkiSpBwO1JEmS1IOBWpIkSerBQC1JkiT1YKCWJEmSejBQS5IkST0YqCVJkqQeDNSSJElSDwZqSZIkqQcDtSRJktSDgVqSJEnqwUAtSZIk9WCgliRJknoYW6BOsk6Sk5OcnuTsJG9v4zdJcmySc9v/jQfmeUuS85Kck+Rp46pNkiRJmi3jbKG+CXhKVT0C2AF4epLHAAcBx1XVdsBx7TZJtgf2AR4KPB34cJI1x1ifJEmS1NvYAnV1rm8379b+CtgdOLyNPxzYow3vDhxZVTdV1QXAecDO46pPkiRJmg0jB+okmyW578TfiPOsmeQ04Arg2Ko6Cdi8qi4DaP83a5NvCVw0MPvFbdzkZR6YZEmSJUuXLh21fEmSJGksVhiokzwnybnABcAJwIXA/46y8Kq6rap2ALYCdk7ysOkeaqpFTLHMw6pqx6racdNNNx2lDEmSJGlsRmmh/ifgMcD/VdW2wG7AD2fyIFV1DXA8Xd/oy5NsAdD+X9EmuxjYemC2rYBLZ/I4kiRJ0lwbJVDfUlVXAWskWaOqvkv3JcNpJdk0yT3b8LrAU4FfAMcA+7fJ9geObsPHAPskWTvJtsB2wMkzeC6SJEnSnFtrhGmuSbI+8D3gs0muAG4dYb4tgMPblTrWABZX1deSnAgsTvJi4NfAXgBVdXaSxcDP2vJfUVW3zfwpSZIkSXNnlEC9O3Aj8FpgP2Aj4O0rmqmqzgAeOcX4q+i6jUw1zyHAISPUJEmSJK0SRuny8baqur2qbq2qw6vqg8Cbx12YJEmStBCMEqj/dIpxz5jtQiRJkqSFaGiXjyR/C7wcuH+SMwbu2oAZXuVDkiRJuquarg/15+iuN/0u2s+DN9dV1dVjrUqSJElaIKYL1FVVFyZ5xeQ7kmxiqJYkSZJW3EL9LOBUul8sHPwlwwLuP8a6JEmSpAVhaKCuqme1/9vOXTmSJEnSwjLKdahJ8lzgCXQt09+vqq+MsyhJkiRpoVjhZfOSfBh4GXAmcBbwsiT/Me7CJEmSpIVglBbqXYCHVVUBJDmcLlxLkiRJq71RftjlHOC+A7e3Bs4YMq0kSZK0WhmlhfpewM+TnNxu7wScmOQYgKp6zriKkyRJklZ1owTqt429CkmSJGmBWmGgrqoT5qIQSZIkaSEa5Sofj0lySpLrk9yc5LYkv5uL4iRJkqRV3ShfSjwU2Bc4F1gXeEkbJ0mSJK32Rvphl6o6L8maVXUb8IkkPxpzXZIkSdKCMEqg/n2SuwOnJXkPcBmw3njLkiRJkhaGUbp8vLBN90rgBrrrUD9vnEVJkiRJC8UoLdRXAjdX1R+AtydZE1h7vGVJkiRJC8MoLdTHAfcYuL0u8O3xlCNJkiQtLKME6nWq6vqJG234HtNML0mSJK02RgnUNyT5k4kbSR4F3Di+kiRJkqSFY5Q+1K8BvpDk0nZ7C2DvsVUkSZIkLSCj/PT4KUn+CHgwEOAXVXXL2CuTJEmSFoBRf9jlFuCsMdciSZIkLTij9KGWJEmSNMS0gTqdreeqGEmSJGmhmTZQV1UBX5mbUiRJkqSFZ5QuHz9OstPYK5EkSZIWoFG+lPhk4GVJLgRuoLvSR1XVw8dZmCRJkrQQjBKonzH2KiRJkqQFaoVdPqrqV8DWwFPa8O9HmU+SJElaHawwGCf5R+DNwFvaqLsBnxlnUZIkSdJCMUpL818Az6HrP01VXQpsMM6iJEmSpIVilEB9c7t8XgEkWW+8JUmSJEkLxyiBenGSjwD3TPJS4NvAR8dbliRJkrQwrPAqH1X13iR/CvwOeBDwtqo6duyVSZIkSQvAKJfNAzgTWJeu28eZ4ytHkiRJWlhGucrHS4CTgecCe9L9cuJfj7swSZIkaSEYpYX6jcAjq+oqgCT3An4EfHychUmSJEkLwShfSrwYuG7g9nXAReMpR5IkSVpYRmmhvgQ4KcnRdH2odwdOTvI6gKp63xjrkyRJklZpowTqX7a/CUe3//64iyRJklZ7o1w27+1zUYgkSZK0EI3Sh1qSJEnSEKNeh3rBedQbPzXfJYzFqf/6ovkuQZIkSQNGuQ71orkoRJIkSVqIhgbqJM9OshQ4M8nFSR43h3VJkiRJC8J0LdSHAE+sqi2A5wHvmpuSJEmSpIVjukB9a1X9AqCqTsLL5EmSJEl3Mt2XEjeb+PGWqW77gy6SJEnS9IH6oyzfKj35tiRJkrTaGxqo/UEXSZIkacWmvWxekicn+WKSs9vfUUl2nZvSJEmSpFXfdJfNeybwceBrwF8C+wFfBz6e5M/npjxJkiRp1TZdH+o3AntU1ekD405LsgT4EF24liRJklZr03X5uPekMA1AVZ0BbD6+kiRJkqSFY7pAfcNK3idJkiStNqbr8vGAJMdMMT7A/cdUjyRJkrSgTBeod5/mvvfOdiGSJEnSQjTddahPmMtCJEmSpIVousvm7Z7kFQO3T0pyfvvbc27KkyRJklZt030p8U3AYB/qtYGdgF2Bvx1jTZIkSdKCMV0f6rtX1UUDt39QVVcBVyVZb8x1SZIkSQvCdC3UGw/eqKpXDtzcdDzlSJIkSQvLdIH6pCQvnTwyyd8AJ69owUm2TvLdJD9PcnaSv2vjN0lybJJz2/+NB+Z5S5LzkpyT5Gkr84QkSZKkuTRdl4/XAl9J8pfAT9q4R9H1pd5jhGXfCry+qn6SZAPg1CTHAgcAx1XVu5McBBwEvDnJ9sA+wEOB+wDfTvKgqrptJZ6XJEmSNCemu2zeFcDjkjyFLuQC/E9VfWeUBVfVZcBlbfi6JD8HtqS7vvWubbLDgeOBN7fxR1bVTcAFSc4DdgZOnOFzkiRJkubMdC3UALQAPVKIHibJNsAjgZOAzVvYpqouS7JZm2xL4McDs13cxk1e1oHAgQD3ve99+5QlSZIk9TZdH+pZkWR94IvAa6rqd9NNOsW4utOIqsOqaseq2nHTTf1upCRJkubXWAN1krvRhenPVtWX2ujLk2zR7t8CuKKNvxjYemD2rYBLx1mfJEmS1NfYAnWSAP8N/Lyq3jdw1zHA/m14f+DogfH7JFk7ybbAdoxwNRFJkiRpPq2wD3UPjwdeCJyZ5LQ27u+BdwOLk7wY+DWwF0BVnZ1kMfAzuiuEvMIrfEiSJGlVN7ZAXVU/YOp+0QC7DZnnEOCQcdUkSZIkzbaxfylRkiRJuiszUEuSJEk9GKglSZKkHgzUkiRJUg8GakmSJKkHA7UkSZLUg4FakiRJ6sFALUmSJPVgoJYkSZJ6MFBLkiRJPRioJUmSpB4M1JIkSVIPBmpJkiSpBwO1JEmS1IOBWpIkSerBQC1JkiT1YKCWJEmSejBQS5IkST0YqCVJkqQeDNSSJElSDwZqSZIkqQcDtSRJktSDgVqSJEnqwUAtSZIk9WCgliRJknowUEuSJEk9GKglSZKkHgzUkiRJUg8GakmSJKkHA7UkSZLUg4FakiRJ6sFALUmSJPVgoJYkSZJ6MFBLkiRJPRioJUmSpB4M1JIkSVIPBmpJkiSpBwO1JEmS1IOBWpIkSerBQC1JkiT1YKCWJEmSejBQS5IkST0YqCVJkqQeDNSSJElSDwZqSZIkqQcDtSRJktSDgVqSJEnqwUAtSZIk9WCgliRJknowUEuSJEk9GKglSZKkHgzUkiRJUg8GakmSJKkHA7UkSZLUg4FakiRJ6sFALUmSJPVgoJYkSZJ6MFBLkiRJPRioJUmSpB4M1JIkSVIPBmpJkiSpBwO1JEmS1IOBWpIkSerBQC1JkiT1YKCWJEmSejBQS5IkST0YqCVJkqQexhaok3w8yRVJzhoYt0mSY5Oc2/5vPHDfW5Kcl+ScJE8bV12SJEnSbBpnC/UngadPGncQcFxVbQcc126TZHtgH+ChbZ4PJ1lzjLVJkiRJs2JsgbqqvgdcPWn07sDhbfhwYI+B8UdW1U1VdQFwHrDzuGqTJEmSZstc96HevKouA2j/N2vjtwQuGpju4jbuTpIcmGRJkiVLly4da7GSJEnSiqwqX0rMFONqqgmr6rCq2rGqdtx0003HXJYkSZI0vbkO1Jcn2QKg/b+ijb8Y2Hpguq2AS+e4NkmSJGnG5jpQHwPs34b3B44eGL9PkrWTbAtsB5w8x7VJkiRJM7bWuBac5AhgV2BRkouBfwTeDSxO8mLg18BeAFV1dpLFwM+AW4FXVNVt46pNkiRJmi1jC9RVte+Qu3YbMv0hwCHjqkeSJEkah1XlS4mSJEnSgmSgliRJknowUEuSJEk9GKglSZKkHgzUkiRJUg8GakmSJKkHA7UkSZLUg4FakiRJ6sFALUmSJPVgoJYkSZJ6MFBLkiRJPRioJUmSpB4M1JIkSVIPBmpJkiSpBwO1JEmS1IOBWpIkSerBQC1JkiT1YKCWJEmSejBQS5IkST0YqCVJkqQeDNSSJElSDwZqSZIkqQcDtSRJktSDgVqSJEnqwUAtSZIk9WCgliRJknowUEuSJEk9GKglSZKkHgzUkiRJUg8GakmSJKkHA7UkSZLUg4FakiRJ6sFALUmSJPVgoJYkSZJ6MFBLkiRJPRioJUmSpB4M1JIkSVIPBmpJkiSpBwO1JEmS1IOBWpIkSerBQC1JkiT1YKCWJEmSejBQS5IkST0YqCVJkqQeDNSSJElSDwZqSZIkqQcDtSRJktSDgVqSJEnqwUAtSZIk9WCgliRJknowUEuSJEk9GKglSZKkHgzUkiRJUg8GakmSJKkHA7UkSZLUg4FakiRJ6sFALUmSJPVgoJYkSZJ6MFBLkiRJPRioJUmSpB4M1JIkSVIPBmpJkiSpBwO1JEmS1IOBWpIkSerBQC1JkiT1YKCWJEmSeljlAnWSpyc5J8l5SQ6a73okSZKk6axSgTrJmsB/AM8Atgf2TbL9/FYlSZIkDbdKBWpgZ+C8qjq/qm4GjgR2n+eaJEmSpKFSVfNdwx2S7Ak8vape0m6/EHh0Vb1yYJoDgQPbzQcD58x5oXe2CLhyvotYRbgulnFdLOO6WMZ1sYzrYhnXxTKui47rYZlVZV3cr6o2neqOtea6khXIFOOWS/xVdRhw2NyUM5okS6pqx/muY1XguljGdbGM62IZ18UyrotlXBfLuC46rodlFsK6WNW6fFwMbD1weyvg0nmqRZIkSVqhVS1QnwJsl2TbJHcH9gGOmeeaJEmSpKFWqS4fVXVrklcC3wTWBD5eVWfPc1mjWKW6oMwz18UyrotlXBfLuC6WcV0s47pYxnXRcT0ss8qvi1XqS4mSJEnSQrOqdfmQJEmSFhQDtSRJktTDahuok9yW5LQkpyf5SZLHzUMNByQ5tA2/LMmL5rqGKWq6fopxd9SW5PgkK33pmiT3SXLUSs577yRHJvllkp8l+XqSB61sLbMhyTZJbkzy0yQ/T3Jykv3n4HF3TXJte9xfJHnvuB9z4LEryb8N3H5DkoPb8CqxHa9IkrcmOTvJGe048Og2/mNz8eusg/v+qqC9pp8euL1WkqVJvjbD5fQ6Psy32VoPs1TLJ9tvM0w+9p2f5MKVPfa1be8+KzHfwUneMM39pyc5YtK4V7fj4menmH7HJB+caR2jmotjZHuMKbeN9hpVkk8n+VEbN9L2NN1yZ1DbSr/XjstA7pr4O2jIdO9I8tQ2/Jok95jbSlfOKvWlxDl2Y1XtAJDkacC7gF1GnTnJmlV122wVU1X/NVvLmm2zVVuStarqUmDPlZg3wJeBw6tqnzZuB2Bz4P9mo74efllVjwRIcn/gS0nWqKpPjPlxv19Vz0qyLvDTJF+uqh+O+TEBbgKem+RdVbXchfZncVuZ1f1r0rIfCzwL+JOquinJIuDuABM/KjWDZS1X5zjrHrMbgIclWbeqbgT+FLhknmsai3YcunXI3avcehjDse8A4CymuCTtym6/SR5C10D3pCTrVdUN7a6XA8+oqgsmTb9WVS0Blsz0sWZovo6RE24AHgZMNNjN2fa0su+1Y3ZH7hqmbYNvGxj1GuAzwO+HTLvKHG9X2xbqSTYEfgt3/mSY5NAkB7ThC5O8LckPgL0GW2OSLEpyYRs+IMmXknwjyblJ3jOwvL9K8n9JTgAePzB+2k//82mK2l6Q5EdJzkqyc5tmvSQfT3JKaxHYvY0/IMkXknwV+Fa6Ft2z2n3bJPl+ujMEKzpL8GTglsHAVlWnVdX30/nXVs+ZSfZuy9+1vUZHtRaKz7Y3J5L8eRv3gyQfnHjNk2yS5CvpWi5/nOThM1lXVXU+8Drg1SOsl68k+WqSC5K8Msnr2jQ/TrLJDB7zRuA0YMu27D9LcmJbp19Isn4bf2GSf0nXin5ykgfO5LkNuJXuG9evnXzH4LaSZKe2Hk+ceH3a+DXb7VPa/X/Txu+a5LtJPgecuZK1jWIL4Mqqugmgqq5sbz7LtbCuYD0OHgcm335pe26nJ/liZtC6kuQF7bU5LclHkqzZxu/btu2zkvzLwPTXJzmkPdaPk2zexm/aHvuU9vf4YY854H+BZ7bhfYE7WhuT7Nz2+Z+2/w9u49dN13J6RpLPA+sOzPOfSZakOxPw9oHxw/a9YY/x0IF1ckaS7dr4F7Xbp6e1Kid5dpKT2jK+PbA+Dk5yWJJvAZ/qsR6mPD6kO1s20ep2bZL9M+T41rbzE5IsTvde8O4k+7XneGaSBwzU8lTgdOARdL/TQJJdgXe2Y9+9kpyT5IYkVyW5Jt170ROS/CHJR9v6PyfJO9O1eO8EnJDk90l+mOSSWdh+/xL4NPAt4Dmtzv8C7g8ck+S1k1+DDLzXJlk/ySfa8z8jyfNWsA1dmOTtbb2emeSPpiuu7zEyA2cL2u3BM7kbJvlyurOm/5Vkcq76X+DqNrwv3QeZJ7X1e/hU2/ygafaLrw9sfz9N8rY2/E9JXpKB99pVXe58DP1kkj2TvBq4D/DdJN9t016frgX7JOCxGX7MnHLbGauqWi3/gNvodrBfANcCj2rjdwW+NjDdocABbfhC4E0D9x0P7NiGFwEXtuEDgPOBjYB1gF/R/WDNFsCvgU3pWsR+CBza5jkYeMMqsF6un2LcHbW15/zRNvwk4Kw2/M/AC9rwPelaTtZr6+JiYJN23zYD89wDWKcNbwcsmaauVwP/PuS+5wHH0l1qcfO2jrdor+W1dD8QtAZwIvCE9ppcBGzb5j9i4jUHPgT8Yxt+CnDaCtbXHc9nYNw96T6Jr2i9nAds0LaHa4GXten+HXjNCh73ju0U2Bg4Fbh32w6/B6zX7nsz8LaB7fetbfhFDGznM91G6D6EXki3jb8BOHiKbeUs4HFt+N0Dr/uBwD+04bXpWqm2bc/phonXZYzb+Pp0+/7/AR8Gdhm473hgxxHW4+BxYPLtew0MvxN41RQ1HEDb9wfGPQT4KnC3dvvD7XW6D8uOG2sB3wH2aNMU8Ow2/J6B9fo54Alt+L7Az0d4TR8OHEW3f5w2aRvbEFirDT8V+GIbfh3d5U1p89/KsmPixD6/ZluvD2f6fW/YY3wI2K8N350utD8UOAdYNOmxNmbZ1ateAvzbwHZ5KrBuz/Uw7fEBeBRwBt1+MeXxrS3vGrpj1Np0LZZvb/f9HfD+NvxJ4Btt3CfojqPrTKrnK3T7T+jOuhTwbLrjXAE7tOlOA77Uhn8L/EUbfjRwIyNsv0zzHkW3L90P+DPgmEn7xqKB+e94DSY9j3+ZeN4Tr+OwbWhguRN1vRz42BQ1DS6/1zGyvRZ7Dm4nA4/xB7oPDmvSvQ/tObCsie3p1vba/ZLuuPj1Ns39mHqbH6x92H5xEPCKdv8pwDfb+O8CD2aK96b5/mNZ7pr423tgXQ1ug3es78FtaOCY9/w2POUxc7ptZ5x/dvngjlPAn0rysBHm+/yIyz+uqq5ty/8Z3Y6zCDi+qpa28Z8H5rUP8Eo6AqCqvpdkwyT3pDuQPifLWrLXoXsjBzi2qq6+82K4G3BoutOXt7Hy6+IJwBHVnfq5PF3r/07A74CTq2qiZec0uoPM9cD5tew05BF0IW9iWc9rz+87rQVoo4nXckQZGJ5uvXy3qq4DrktyLd2BAbrW2VFaxp+Y5Ay6g+e7q+o3SZ4FbA/8MF1j/N3pPkhMOGLg/7/P4Dktp6p+l+RTdB90bpx8f9smNqiqH7VRn6N7w4dunTx8oMVnI7rAcTPd63UBY1RV1yd5FPBEujMfn09yUFV9cmCyxzD9epx8HBi8/bAk76T7ALU+3XX1R7EbXSA7pT3musAVdNvy4HHjs3QfZr9Ct84mzqidSndKGbo33u3bcqBrRdugbW9TqqozkmxD14r29Ul3bwQcnq51uOj2XVodHxyY/4yBeZ6f5EC6DwFb0K3PNRi+7w17jBOBtybZii4UnpvkKcBR1bocDRxftqJ7Pbege80Gt6VjqmupnNYK1sPQ40O6rkOfpnuzvzbJRgw/vp1SVZcBJPklXcsudPv+kwemW0y3DV1D10gzuSX2cXTbwE/b7dvpwt2pwM1VdVobfwlwz9YSuyHw7iT/2O5bkx7bb5KdgKVV9askFwMfT7JxVf12ismHvQZPpfshNwAG5p1qG5rYxr7U/p8KPHdIeXNxjDy5ujOTpOtD/gS6D2QTz+WMdA+0L3AlXZh/SLv7duALU2zzg4btF9+nO/5eAPwP8KfpziZsU1XntG14VTNdl49Rs9VtwBfb8LBjJky/7YzF6hyo71BVJ7aD4aZ0nyQHT9msM2nyGwaGB6edPN1NA8O3sWxdV79qVwmTn0PRhcjnVdU5g3ek+7LXDUzttcDldKcz16D7pD/M2QzvD5Yh42Hq12G66ae6b6av2SOBnw8sb9h6Gazt9oHbtzPavjnRP/BBwA+SfLk93rFVte+QeWrI8Mp4P/ATutazyVa0jl9VVcu9Uac7lT1sW5lV7cPX8cDxSc4E9qdrFRmscbr1OLnOwdufpGtBPj1dd7FdRywrdP1k37LcyGSPaea5pVozDMsfZ9YAHjtKgJzkGOC9dDXfa2D8P9F9APyL9kZ9/MB9d9qOkmxLd+Zip6r6bZJP0h0jp9supnyMqvpcO737TOCbSV7SljPV9vsh4H1VdUzbng4euG8m29aw9TDl8aGdZj4SeEdVTZxmn+74Nuq+Xyx/7JvqOX+4qv4ZIMnVwGeBB06ado2Bv1vpWvyXtHkupN/2uy/wR2050AX25wEfm2LaYa/BnV7PabahCRPrbHC7n2y2jpF3vNe3cHz3IdNPdXti/vfSBd9B0+1XK5rmFLqzaefTtYwvAl5K9wFjIRp1//xDLes3PeyYuaJtZyzsQw2k63+1JnAVXfeM7ZOs3VoYdptm1gvpPh3BaJ3/TwJ2ba0adwP2Wvmq59VEH+UnANe21ttvAq9qBxuSPHKE5WwEXFZVtwMvpHsNhvkOsHaSl06MSNdHdxe6T/x7p+ubuyldq9nJ0yzrF8D9Bz7B7z1w3/eA/dryd6Xra/u7dP3YVtT3krbM99K9scPKrZcZqar/o/tS7ZuBHwOPz7K+f/fI8lcD2Hvg/4n00FoFFwMvnuK+39K1vD+mjdpn4O5vAn/b9gGSPCjJen1qmYkkD26tPRN2oNvvB61oPU5nA+Cy9vz2m0FpxwF7JtmsPeYmSe5Hd9zYJV3f2DXpAswJK1jWt4BXTtxoraSj+DhdKJzch30jln2Z6oCB8YP7y8NYdmZlQ7o3yGvT9WN+Rhs/3b435WOk+6Lv+VX1Qbqg+3C6dfX8JPdq02wyxTL2H+UJDzFsPUx5fKDr0nRGVR056fmMenwbZi+6U/gbAn9M180FYKN27PsR3b60fpJn0HVtWETXErpWe69Zm651jlbrDbSzRe24NLlVdOTtN11/4b3oTqdvU1XbALvTbaMzMXl73Zjh29CMzcIx8kKWvdfvzvLrbOck27Z1sTfwgylKuBV4B92ZumewLHstYur9atCU+0VV3UzXfer57Tl9ny5Efn/Ichaq6+i2yakMO2bO2rYzE6tzC/W66boAQPcpZ//2qeeiJIvpTg2cy7JTaVN5L7A4yQvpAt+0quqydJcXOxG4jK51b2UOsuN0j3Sn7Sa8b4ppfpvuMkAbAn/dxv0TXYvlxOmtC1l2in+YDwNfTDLxpjH0E2pVVZK/AN6f7lI7f2iP8Rq6N7nH0n15p+j6Yv0mQ76oUlU3Jnk58I0kV7J8+D4Y+ES604S/Z9mb8n2ZomtD84AkP6X7BHwd8KFadoWPlVkvd0jyslbziq6e8V90B9P16Q66R7Q3UoB/YNnVANZurX1r0N70kjyHrt/r25i5f2PgjXCSFwMfTXIDXavKRLeZj9F1vflJWydLgT1W4rFX1vrAh9J1S7mVri/7gYMTVNXS1jo3bD1O5//RheBf0Z3CH/ZmcMCk1ufHtMf4VntzvgV4RVX9OMlb6PaR0PW/PHoFNbwa+I+2Ha9Ft4+8bEWFt+5RH5jirvfQnXZ+Hcsf6/6TZfvLabR9qbVu/pSudfV8uu+LrGjfG/YYe9N9EfoW4Dd0QffqJIfQfbnuNrrj9AF0++8XklxCFzK2XdFznuF6OJipjw9vAM4eeE95GzM4vk3jHLoPTxvQ9b09m27fvQfdl9teTLdul7bl30y3fV9Jd+r7JLouAVcMLPOtwHuTvJnueDT5S4ejbr/QNV5cUlWDV674Hl2j1BYzeJ7vpNtez6JrcX57VX1pqm2oh5U+RgIfBY5OcjJdiBt8LU+k+0D1x3TP/ctTPHZV1QcAkjwX2LdtK6cD75pimx80bL+ALjzvVlW/T/J9ui5Pq3KgHsxdAN+oqikvnTfgMOB/k1xWVYPdoaiqnyUZdsyczW1nJP70uFZLSdZvfWkD/AdwblUN7S+X5F+BT1fVWPtgjVO6U7I71qRL3Y3x8davquvb8EHAFlX1d3Px2Fp1zXTf0+jmeh+/q3H9qQ+7fGh19dL2SflsulNqH5lu4qp640IO0/PkmekuZXQW3RcA3znfBWmVMKN9T5IWAluoJUmSpB5soZYkSZJ6MFBLkiRJPRioJUmSpB4M1JIkSVIPBmpJkiSph/8P9i3SiyPEB7MAAAAASUVORK5CYII=\n",
      "text/plain": [
       "<Figure size 864x504 with 1 Axes>"
      ]
     },
     "metadata": {
      "needs_background": "light"
     },
     "output_type": "display_data"
    }
   ],
   "source": [
    "fig= plt.figure(figsize = (12,7))\n",
    "# The GDP per capita : Calculated as the Total GDP divided by the total population.\n",
    "\n",
    "bottom10_gdpp = data[['country','gdpp']].sort_values('gdpp', ascending = True).head(10)\n",
    "plt1 = sbn.barplot(x='country', y='gdpp', data= bottom10_gdpp)\n",
    "plt1.set(xlabel = '', ylabel= 'GDP per capita')\n",
    "plt.title(\"Top 10 Countreis with Lowest GDP per person\")\n",
    "plt.show()  \n"
   ]
  },
  {
   "cell_type": "markdown",
   "id": "f117ea0f",
   "metadata": {},
   "source": [
    "<H4>TOP 10 COUNTRIES WITH LOWEST PER CAPITA INCOME (OR AVG.INCOME )<H4/>"
   ]
  },
  {
   "cell_type": "code",
   "execution_count": 433,
   "id": "ac29036e",
   "metadata": {},
   "outputs": [
    {
     "data": {
      "image/png": "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\n",
      "text/plain": [
       "<Figure size 864x504 with 1 Axes>"
      ]
     },
     "metadata": {
      "needs_background": "light"
     },
     "output_type": "display_data"
    }
   ],
   "source": [
    "fig= plt.figure(figsize = (12,7))\n",
    "# Per capita Income : Net income per person\n",
    "\n",
    "bottom10_income = data[['country','income']].sort_values('income', ascending = True).head(10)\n",
    "plt1 = sbn.barplot(x='country', y='income', data= bottom10_income)\n",
    "plt1.set(xlabel = '', ylabel= 'Per capita Income')\n",
    "plt.title(\"Top 10 Countreis with Lowest Per Capita Income (or Avg. Income)\")\n",
    "plt.show()  "
   ]
  },
  {
   "cell_type": "markdown",
   "id": "a3584d1c",
   "metadata": {},
   "source": [
    "<H4>TOP 10 COUNTRIES WITH HIGHEST INFLATION RATE<H4/> "
   ]
  },
  {
   "cell_type": "code",
   "execution_count": 434,
   "id": "0bc50063",
   "metadata": {},
   "outputs": [
    {
     "data": {
      "image/png": "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\n",
      "text/plain": [
       "<Figure size 864x504 with 1 Axes>"
      ]
     },
     "metadata": {
      "needs_background": "light"
     },
     "output_type": "display_data"
    }
   ],
   "source": [
    "fig= plt.figure(figsize = (12,7))\n",
    "# Inflation: The measurement of the annual growth rate of the Total GDP\n",
    "\n",
    "top10_inflation = data[['country','inflation']].sort_values('inflation', ascending = False).head(10)\n",
    "plt1 = sbn.barplot(x='country', y='inflation', data= top10_inflation)\n",
    "plt1.set(xlabel = '', ylabel= 'Inflation')\n",
    "plt.title(\"Top 10 Countreis with Highest Inflation rate\")\n",
    "plt.show()"
   ]
  },
  {
   "cell_type": "markdown",
   "id": "d7a6b050",
   "metadata": {},
   "source": [
    "<H4>TOP 10 COUNTRIES WITH LOWEST EXPORT RATE  <H4/>"
   ]
  },
  {
   "cell_type": "code",
   "execution_count": 435,
   "id": "b035ca0d",
   "metadata": {},
   "outputs": [
    {
     "data": {
      "image/png": "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\n",
      "text/plain": [
       "<Figure size 864x504 with 1 Axes>"
      ]
     },
     "metadata": {
      "needs_background": "light"
     },
     "output_type": "display_data"
    }
   ],
   "source": [
    "fig= plt.figure(figsize = (12,7))\n",
    "# Exports: Exports of goods and services. Given as %age of the Total GDP\n",
    "bottom10_exports = data[['country','exports']].sort_values('exports', ascending = True).head(10)\n",
    "plt1 = sbn.barplot(x='country', y='exports', data= bottom10_exports)\n",
    "plt1.set(xlabel = '', ylabel= 'Exports')\n",
    "plt.title(\"Top 10 Countreis with Lowest Export rate\")\n",
    "plt.show()"
   ]
  },
  {
   "cell_type": "markdown",
   "id": "d5102216",
   "metadata": {},
   "source": [
    "<H4>TOP  10 COUNTRIES WITH LOWEST IMPORT RATE <H4/>"
   ]
  },
  {
   "cell_type": "code",
   "execution_count": 436,
   "id": "fa9d30dd",
   "metadata": {},
   "outputs": [
    {
     "data": {
      "image/png": "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\n",
      "text/plain": [
       "<Figure size 864x504 with 1 Axes>"
      ]
     },
     "metadata": {
      "needs_background": "light"
     },
     "output_type": "display_data"
    }
   ],
   "source": [
    "fig= plt.figure(figsize = (12,7))\n",
    "# Imports: Imports of goods and services. Given as %age of the Total GDP\n",
    "\n",
    "bottom10_imports = data[['country','imports']].sort_values('imports', ascending = True).head(10)\n",
    "plt1 = sbn.barplot(x='country', y='imports', data= bottom10_imports)\n",
    "plt1.set(xlabel = '', ylabel= 'Imports')\n",
    "plt.title(\"Top 10 Countreis with Lowest Import rate\")\n",
    "plt.show()  "
   ]
  },
  {
   "cell_type": "markdown",
   "id": "94a94bc4",
   "metadata": {},
   "source": [
    "<H3> DEALING WITH OUTLIERS<H3/>"
   ]
  },
  {
   "cell_type": "markdown",
   "id": "2a9eec8d",
   "metadata": {},
   "source": [
    "<H4>Checking outliers at 25%,50%,75%,90%,95% and 99%<H4/>"
   ]
  },
  {
   "cell_type": "code",
   "execution_count": 437,
   "id": "ecbb5958",
   "metadata": {},
   "outputs": [
    {
     "data": {
      "text/html": [
       "<div>\n",
       "<style scoped>\n",
       "    .dataframe tbody tr th:only-of-type {\n",
       "        vertical-align: middle;\n",
       "    }\n",
       "\n",
       "    .dataframe tbody tr th {\n",
       "        vertical-align: top;\n",
       "    }\n",
       "\n",
       "    .dataframe thead th {\n",
       "        text-align: right;\n",
       "    }\n",
       "</style>\n",
       "<table border=\"1\" class=\"dataframe\">\n",
       "  <thead>\n",
       "    <tr style=\"text-align: right;\">\n",
       "      <th></th>\n",
       "      <th>child_mort</th>\n",
       "      <th>exports</th>\n",
       "      <th>health</th>\n",
       "      <th>imports</th>\n",
       "      <th>income</th>\n",
       "      <th>inflation</th>\n",
       "      <th>life_expec</th>\n",
       "      <th>total_fer</th>\n",
       "      <th>gdpp</th>\n",
       "    </tr>\n",
       "  </thead>\n",
       "  <tbody>\n",
       "    <tr>\n",
       "      <th>count</th>\n",
       "      <td>167.000000</td>\n",
       "      <td>167.000000</td>\n",
       "      <td>167.000000</td>\n",
       "      <td>167.000000</td>\n",
       "      <td>167.000000</td>\n",
       "      <td>167.000000</td>\n",
       "      <td>167.000000</td>\n",
       "      <td>167.000000</td>\n",
       "      <td>167.000000</td>\n",
       "    </tr>\n",
       "    <tr>\n",
       "      <th>mean</th>\n",
       "      <td>38.270060</td>\n",
       "      <td>7420.618847</td>\n",
       "      <td>1056.733204</td>\n",
       "      <td>6588.352108</td>\n",
       "      <td>17144.688623</td>\n",
       "      <td>7.781832</td>\n",
       "      <td>70.555689</td>\n",
       "      <td>2.947964</td>\n",
       "      <td>12964.155689</td>\n",
       "    </tr>\n",
       "    <tr>\n",
       "      <th>std</th>\n",
       "      <td>40.328931</td>\n",
       "      <td>17973.885795</td>\n",
       "      <td>1801.408906</td>\n",
       "      <td>14710.810418</td>\n",
       "      <td>19278.067698</td>\n",
       "      <td>10.570704</td>\n",
       "      <td>8.893172</td>\n",
       "      <td>1.513848</td>\n",
       "      <td>18328.704809</td>\n",
       "    </tr>\n",
       "    <tr>\n",
       "      <th>min</th>\n",
       "      <td>2.600000</td>\n",
       "      <td>1.076920</td>\n",
       "      <td>12.821200</td>\n",
       "      <td>0.651092</td>\n",
       "      <td>609.000000</td>\n",
       "      <td>-4.210000</td>\n",
       "      <td>32.100000</td>\n",
       "      <td>1.150000</td>\n",
       "      <td>231.000000</td>\n",
       "    </tr>\n",
       "    <tr>\n",
       "      <th>25%</th>\n",
       "      <td>8.250000</td>\n",
       "      <td>447.140000</td>\n",
       "      <td>78.535500</td>\n",
       "      <td>640.215000</td>\n",
       "      <td>3355.000000</td>\n",
       "      <td>1.810000</td>\n",
       "      <td>65.300000</td>\n",
       "      <td>1.795000</td>\n",
       "      <td>1330.000000</td>\n",
       "    </tr>\n",
       "    <tr>\n",
       "      <th>50%</th>\n",
       "      <td>19.300000</td>\n",
       "      <td>1777.440000</td>\n",
       "      <td>321.886000</td>\n",
       "      <td>2045.580000</td>\n",
       "      <td>9960.000000</td>\n",
       "      <td>5.390000</td>\n",
       "      <td>73.100000</td>\n",
       "      <td>2.410000</td>\n",
       "      <td>4660.000000</td>\n",
       "    </tr>\n",
       "    <tr>\n",
       "      <th>75%</th>\n",
       "      <td>62.100000</td>\n",
       "      <td>7278.000000</td>\n",
       "      <td>976.940000</td>\n",
       "      <td>7719.600000</td>\n",
       "      <td>22800.000000</td>\n",
       "      <td>10.750000</td>\n",
       "      <td>76.800000</td>\n",
       "      <td>3.880000</td>\n",
       "      <td>14050.000000</td>\n",
       "    </tr>\n",
       "    <tr>\n",
       "      <th>90%</th>\n",
       "      <td>100.220000</td>\n",
       "      <td>17760.600000</td>\n",
       "      <td>3825.416000</td>\n",
       "      <td>15034.280000</td>\n",
       "      <td>41220.000000</td>\n",
       "      <td>16.640000</td>\n",
       "      <td>80.400000</td>\n",
       "      <td>5.322000</td>\n",
       "      <td>41840.000000</td>\n",
       "    </tr>\n",
       "    <tr>\n",
       "      <th>95%</th>\n",
       "      <td>116.000000</td>\n",
       "      <td>31385.100000</td>\n",
       "      <td>4966.701000</td>\n",
       "      <td>24241.560000</td>\n",
       "      <td>48290.000000</td>\n",
       "      <td>20.870000</td>\n",
       "      <td>81.400000</td>\n",
       "      <td>5.861000</td>\n",
       "      <td>48610.000000</td>\n",
       "    </tr>\n",
       "    <tr>\n",
       "      <th>99%</th>\n",
       "      <td>153.400000</td>\n",
       "      <td>64794.260000</td>\n",
       "      <td>8410.330400</td>\n",
       "      <td>55371.390000</td>\n",
       "      <td>84374.000000</td>\n",
       "      <td>41.478000</td>\n",
       "      <td>82.370000</td>\n",
       "      <td>6.563600</td>\n",
       "      <td>79088.000000</td>\n",
       "    </tr>\n",
       "    <tr>\n",
       "      <th>max</th>\n",
       "      <td>208.000000</td>\n",
       "      <td>183750.000000</td>\n",
       "      <td>8663.600000</td>\n",
       "      <td>149100.000000</td>\n",
       "      <td>125000.000000</td>\n",
       "      <td>104.000000</td>\n",
       "      <td>82.800000</td>\n",
       "      <td>7.490000</td>\n",
       "      <td>105000.000000</td>\n",
       "    </tr>\n",
       "  </tbody>\n",
       "</table>\n",
       "</div>"
      ],
      "text/plain": [
       "       child_mort        exports       health        imports         income  \\\n",
       "count  167.000000     167.000000   167.000000     167.000000     167.000000   \n",
       "mean    38.270060    7420.618847  1056.733204    6588.352108   17144.688623   \n",
       "std     40.328931   17973.885795  1801.408906   14710.810418   19278.067698   \n",
       "min      2.600000       1.076920    12.821200       0.651092     609.000000   \n",
       "25%      8.250000     447.140000    78.535500     640.215000    3355.000000   \n",
       "50%     19.300000    1777.440000   321.886000    2045.580000    9960.000000   \n",
       "75%     62.100000    7278.000000   976.940000    7719.600000   22800.000000   \n",
       "90%    100.220000   17760.600000  3825.416000   15034.280000   41220.000000   \n",
       "95%    116.000000   31385.100000  4966.701000   24241.560000   48290.000000   \n",
       "99%    153.400000   64794.260000  8410.330400   55371.390000   84374.000000   \n",
       "max    208.000000  183750.000000  8663.600000  149100.000000  125000.000000   \n",
       "\n",
       "        inflation  life_expec   total_fer           gdpp  \n",
       "count  167.000000  167.000000  167.000000     167.000000  \n",
       "mean     7.781832   70.555689    2.947964   12964.155689  \n",
       "std     10.570704    8.893172    1.513848   18328.704809  \n",
       "min     -4.210000   32.100000    1.150000     231.000000  \n",
       "25%      1.810000   65.300000    1.795000    1330.000000  \n",
       "50%      5.390000   73.100000    2.410000    4660.000000  \n",
       "75%     10.750000   76.800000    3.880000   14050.000000  \n",
       "90%     16.640000   80.400000    5.322000   41840.000000  \n",
       "95%     20.870000   81.400000    5.861000   48610.000000  \n",
       "99%     41.478000   82.370000    6.563600   79088.000000  \n",
       "max    104.000000   82.800000    7.490000  105000.000000  "
      ]
     },
     "execution_count": 437,
     "metadata": {},
     "output_type": "execute_result"
    }
   ],
   "source": [
    "\n",
    "data.describe(percentiles=[.25,.5,.75,.90,.95,.99])"
   ]
  },
  {
   "cell_type": "markdown",
   "id": "7f9d6236",
   "metadata": {},
   "source": [
    "<H4> PLOTING OUTLIERS OF GIVEN DATA SET <H4/>"
   ]
  },
  {
   "cell_type": "code",
   "execution_count": 438,
   "id": "065f702a",
   "metadata": {},
   "outputs": [
    {
     "data": {
      "image/png": "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\n",
      "text/plain": [
       "<Figure size 864x576 with 1 Axes>"
      ]
     },
     "metadata": {
      "needs_background": "light"
     },
     "output_type": "display_data"
    }
   ],
   "source": [
    "fig = plt.figure(figsize = (12,8))\n",
    "sbn.boxplot(data=data)\n",
    "plt.show()"
   ]
  },
  {
   "cell_type": "markdown",
   "id": "2e5eef43",
   "metadata": {},
   "source": [
    "<H4> STANDARDIZE  THE DATA VALUE INTO STANDARD FORMAT <H4/>"
   ]
  },
  {
   "cell_type": "code",
   "execution_count": 439,
   "id": "965488ee",
   "metadata": {},
   "outputs": [],
   "source": [
    "from sklearn.preprocessing import StandardScaler\n",
    "scaler=StandardScaler()"
   ]
  },
  {
   "cell_type": "markdown",
   "id": "7e8f13aa",
   "metadata": {},
   "source": [
    "<h4>DROPPING \"COUNTRY\" COLUMN FOR STANDARDIZATION<H4/>"
   ]
  },
  {
   "cell_type": "code",
   "execution_count": 440,
   "id": "6ce1c198",
   "metadata": {},
   "outputs": [],
   "source": [
    "newdata=data.drop(columns=\"country\")"
   ]
  },
  {
   "cell_type": "markdown",
   "id": "8cb6f3f4",
   "metadata": {},
   "source": [
    "<H4>STANDARDIZATION <H4/>"
   ]
  },
  {
   "cell_type": "code",
   "execution_count": 441,
   "id": "4112fab5",
   "metadata": {},
   "outputs": [],
   "source": [
    "a=scaler.fit_transform(newdata)\n",
    "df=pd.DataFrame(a)"
   ]
  },
  {
   "cell_type": "code",
   "execution_count": 442,
   "id": "86760a5e",
   "metadata": {},
   "outputs": [
    {
     "data": {
      "text/html": [
       "<div>\n",
       "<style scoped>\n",
       "    .dataframe tbody tr th:only-of-type {\n",
       "        vertical-align: middle;\n",
       "    }\n",
       "\n",
       "    .dataframe tbody tr th {\n",
       "        vertical-align: top;\n",
       "    }\n",
       "\n",
       "    .dataframe thead th {\n",
       "        text-align: right;\n",
       "    }\n",
       "</style>\n",
       "<table border=\"1\" class=\"dataframe\">\n",
       "  <thead>\n",
       "    <tr style=\"text-align: right;\">\n",
       "      <th></th>\n",
       "      <th>0</th>\n",
       "      <th>1</th>\n",
       "      <th>2</th>\n",
       "      <th>3</th>\n",
       "      <th>4</th>\n",
       "      <th>5</th>\n",
       "      <th>6</th>\n",
       "      <th>7</th>\n",
       "      <th>8</th>\n",
       "    </tr>\n",
       "  </thead>\n",
       "  <tbody>\n",
       "    <tr>\n",
       "      <th>0</th>\n",
       "      <td>1.291532</td>\n",
       "      <td>-0.411011</td>\n",
       "      <td>-0.565040</td>\n",
       "      <td>-0.432276</td>\n",
       "      <td>-0.808245</td>\n",
       "      <td>0.157336</td>\n",
       "      <td>-1.619092</td>\n",
       "      <td>1.902882</td>\n",
       "      <td>-0.679180</td>\n",
       "    </tr>\n",
       "    <tr>\n",
       "      <th>1</th>\n",
       "      <td>-0.538949</td>\n",
       "      <td>-0.350191</td>\n",
       "      <td>-0.439218</td>\n",
       "      <td>-0.313677</td>\n",
       "      <td>-0.375369</td>\n",
       "      <td>-0.312347</td>\n",
       "      <td>0.647866</td>\n",
       "      <td>-0.859973</td>\n",
       "      <td>-0.485623</td>\n",
       "    </tr>\n",
       "    <tr>\n",
       "      <th>2</th>\n",
       "      <td>-0.272833</td>\n",
       "      <td>-0.318526</td>\n",
       "      <td>-0.484826</td>\n",
       "      <td>-0.353720</td>\n",
       "      <td>-0.220844</td>\n",
       "      <td>0.789274</td>\n",
       "      <td>0.670423</td>\n",
       "      <td>-0.038404</td>\n",
       "      <td>-0.465376</td>\n",
       "    </tr>\n",
       "    <tr>\n",
       "      <th>3</th>\n",
       "      <td>2.007808</td>\n",
       "      <td>-0.291375</td>\n",
       "      <td>-0.532363</td>\n",
       "      <td>-0.345953</td>\n",
       "      <td>-0.585043</td>\n",
       "      <td>1.387054</td>\n",
       "      <td>-1.179234</td>\n",
       "      <td>2.128151</td>\n",
       "      <td>-0.516268</td>\n",
       "    </tr>\n",
       "    <tr>\n",
       "      <th>4</th>\n",
       "      <td>-0.695634</td>\n",
       "      <td>-0.104331</td>\n",
       "      <td>-0.178771</td>\n",
       "      <td>0.040735</td>\n",
       "      <td>0.101732</td>\n",
       "      <td>-0.601749</td>\n",
       "      <td>0.704258</td>\n",
       "      <td>-0.541946</td>\n",
       "      <td>-0.041817</td>\n",
       "    </tr>\n",
       "  </tbody>\n",
       "</table>\n",
       "</div>"
      ],
      "text/plain": [
       "          0         1         2         3         4         5         6  \\\n",
       "0  1.291532 -0.411011 -0.565040 -0.432276 -0.808245  0.157336 -1.619092   \n",
       "1 -0.538949 -0.350191 -0.439218 -0.313677 -0.375369 -0.312347  0.647866   \n",
       "2 -0.272833 -0.318526 -0.484826 -0.353720 -0.220844  0.789274  0.670423   \n",
       "3  2.007808 -0.291375 -0.532363 -0.345953 -0.585043  1.387054 -1.179234   \n",
       "4 -0.695634 -0.104331 -0.178771  0.040735  0.101732 -0.601749  0.704258   \n",
       "\n",
       "          7         8  \n",
       "0  1.902882 -0.679180  \n",
       "1 -0.859973 -0.485623  \n",
       "2 -0.038404 -0.465376  \n",
       "3  2.128151 -0.516268  \n",
       "4 -0.541946 -0.041817  "
      ]
     },
     "execution_count": 442,
     "metadata": {},
     "output_type": "execute_result"
    }
   ],
   "source": [
    "df.head()"
   ]
  },
  {
   "cell_type": "markdown",
   "id": "de04cce5",
   "metadata": {},
   "source": [
    "<H4>ADDING COLUMN NAMES IN STANDARDIZE DATA SET<H4/>"
   ]
  },
  {
   "cell_type": "code",
   "execution_count": 443,
   "id": "2ac51872",
   "metadata": {},
   "outputs": [],
   "source": [
    "df.columns=['child_mort','exports','health','imports','income','inflation','life_expec','total_fer','gdpp']"
   ]
  },
  {
   "cell_type": "code",
   "execution_count": 444,
   "id": "74259463",
   "metadata": {},
   "outputs": [
    {
     "data": {
      "text/html": [
       "<div>\n",
       "<style scoped>\n",
       "    .dataframe tbody tr th:only-of-type {\n",
       "        vertical-align: middle;\n",
       "    }\n",
       "\n",
       "    .dataframe tbody tr th {\n",
       "        vertical-align: top;\n",
       "    }\n",
       "\n",
       "    .dataframe thead th {\n",
       "        text-align: right;\n",
       "    }\n",
       "</style>\n",
       "<table border=\"1\" class=\"dataframe\">\n",
       "  <thead>\n",
       "    <tr style=\"text-align: right;\">\n",
       "      <th></th>\n",
       "      <th>child_mort</th>\n",
       "      <th>exports</th>\n",
       "      <th>health</th>\n",
       "      <th>imports</th>\n",
       "      <th>income</th>\n",
       "      <th>inflation</th>\n",
       "      <th>life_expec</th>\n",
       "      <th>total_fer</th>\n",
       "      <th>gdpp</th>\n",
       "    </tr>\n",
       "  </thead>\n",
       "  <tbody>\n",
       "    <tr>\n",
       "      <th>0</th>\n",
       "      <td>1.291532</td>\n",
       "      <td>-0.411011</td>\n",
       "      <td>-0.565040</td>\n",
       "      <td>-0.432276</td>\n",
       "      <td>-0.808245</td>\n",
       "      <td>0.157336</td>\n",
       "      <td>-1.619092</td>\n",
       "      <td>1.902882</td>\n",
       "      <td>-0.679180</td>\n",
       "    </tr>\n",
       "    <tr>\n",
       "      <th>1</th>\n",
       "      <td>-0.538949</td>\n",
       "      <td>-0.350191</td>\n",
       "      <td>-0.439218</td>\n",
       "      <td>-0.313677</td>\n",
       "      <td>-0.375369</td>\n",
       "      <td>-0.312347</td>\n",
       "      <td>0.647866</td>\n",
       "      <td>-0.859973</td>\n",
       "      <td>-0.485623</td>\n",
       "    </tr>\n",
       "    <tr>\n",
       "      <th>2</th>\n",
       "      <td>-0.272833</td>\n",
       "      <td>-0.318526</td>\n",
       "      <td>-0.484826</td>\n",
       "      <td>-0.353720</td>\n",
       "      <td>-0.220844</td>\n",
       "      <td>0.789274</td>\n",
       "      <td>0.670423</td>\n",
       "      <td>-0.038404</td>\n",
       "      <td>-0.465376</td>\n",
       "    </tr>\n",
       "    <tr>\n",
       "      <th>3</th>\n",
       "      <td>2.007808</td>\n",
       "      <td>-0.291375</td>\n",
       "      <td>-0.532363</td>\n",
       "      <td>-0.345953</td>\n",
       "      <td>-0.585043</td>\n",
       "      <td>1.387054</td>\n",
       "      <td>-1.179234</td>\n",
       "      <td>2.128151</td>\n",
       "      <td>-0.516268</td>\n",
       "    </tr>\n",
       "    <tr>\n",
       "      <th>4</th>\n",
       "      <td>-0.695634</td>\n",
       "      <td>-0.104331</td>\n",
       "      <td>-0.178771</td>\n",
       "      <td>0.040735</td>\n",
       "      <td>0.101732</td>\n",
       "      <td>-0.601749</td>\n",
       "      <td>0.704258</td>\n",
       "      <td>-0.541946</td>\n",
       "      <td>-0.041817</td>\n",
       "    </tr>\n",
       "  </tbody>\n",
       "</table>\n",
       "</div>"
      ],
      "text/plain": [
       "   child_mort   exports    health   imports    income  inflation  life_expec  \\\n",
       "0    1.291532 -0.411011 -0.565040 -0.432276 -0.808245   0.157336   -1.619092   \n",
       "1   -0.538949 -0.350191 -0.439218 -0.313677 -0.375369  -0.312347    0.647866   \n",
       "2   -0.272833 -0.318526 -0.484826 -0.353720 -0.220844   0.789274    0.670423   \n",
       "3    2.007808 -0.291375 -0.532363 -0.345953 -0.585043   1.387054   -1.179234   \n",
       "4   -0.695634 -0.104331 -0.178771  0.040735  0.101732  -0.601749    0.704258   \n",
       "\n",
       "   total_fer      gdpp  \n",
       "0   1.902882 -0.679180  \n",
       "1  -0.859973 -0.485623  \n",
       "2  -0.038404 -0.465376  \n",
       "3   2.128151 -0.516268  \n",
       "4  -0.541946 -0.041817  "
      ]
     },
     "execution_count": 444,
     "metadata": {},
     "output_type": "execute_result"
    }
   ],
   "source": [
    "df.head()"
   ]
  },
  {
   "cell_type": "markdown",
   "id": "3a3bf7ca",
   "metadata": {},
   "source": [
    "<H4>ANALYZING THE STANDARDIZED DATA<H4/>"
   ]
  },
  {
   "cell_type": "code",
   "execution_count": 445,
   "id": "07b4be24",
   "metadata": {},
   "outputs": [
    {
     "data": {
      "text/html": [
       "<div>\n",
       "<style scoped>\n",
       "    .dataframe tbody tr th:only-of-type {\n",
       "        vertical-align: middle;\n",
       "    }\n",
       "\n",
       "    .dataframe tbody tr th {\n",
       "        vertical-align: top;\n",
       "    }\n",
       "\n",
       "    .dataframe thead th {\n",
       "        text-align: right;\n",
       "    }\n",
       "</style>\n",
       "<table border=\"1\" class=\"dataframe\">\n",
       "  <thead>\n",
       "    <tr style=\"text-align: right;\">\n",
       "      <th></th>\n",
       "      <th>child_mort</th>\n",
       "      <th>exports</th>\n",
       "      <th>health</th>\n",
       "      <th>imports</th>\n",
       "      <th>income</th>\n",
       "      <th>inflation</th>\n",
       "      <th>life_expec</th>\n",
       "      <th>total_fer</th>\n",
       "      <th>gdpp</th>\n",
       "    </tr>\n",
       "  </thead>\n",
       "  <tbody>\n",
       "    <tr>\n",
       "      <th>count</th>\n",
       "      <td>1.670000e+02</td>\n",
       "      <td>1.670000e+02</td>\n",
       "      <td>1.670000e+02</td>\n",
       "      <td>1.670000e+02</td>\n",
       "      <td>1.670000e+02</td>\n",
       "      <td>1.670000e+02</td>\n",
       "      <td>1.670000e+02</td>\n",
       "      <td>1.670000e+02</td>\n",
       "      <td>1.670000e+02</td>\n",
       "    </tr>\n",
       "    <tr>\n",
       "      <th>mean</th>\n",
       "      <td>-2.659217e-17</td>\n",
       "      <td>9.174298e-17</td>\n",
       "      <td>-2.260334e-17</td>\n",
       "      <td>3.589943e-17</td>\n",
       "      <td>-7.512288e-17</td>\n",
       "      <td>3.988825e-18</td>\n",
       "      <td>3.616535e-16</td>\n",
       "      <td>3.124580e-16</td>\n",
       "      <td>2.127373e-17</td>\n",
       "    </tr>\n",
       "    <tr>\n",
       "      <th>std</th>\n",
       "      <td>1.003008e+00</td>\n",
       "      <td>1.003008e+00</td>\n",
       "      <td>1.003008e+00</td>\n",
       "      <td>1.003008e+00</td>\n",
       "      <td>1.003008e+00</td>\n",
       "      <td>1.003008e+00</td>\n",
       "      <td>1.003008e+00</td>\n",
       "      <td>1.003008e+00</td>\n",
       "      <td>1.003008e+00</td>\n",
       "    </tr>\n",
       "    <tr>\n",
       "      <th>min</th>\n",
       "      <td>-8.871383e-01</td>\n",
       "      <td>-4.140371e-01</td>\n",
       "      <td>-5.812404e-01</td>\n",
       "      <td>-4.491604e-01</td>\n",
       "      <td>-8.603259e-01</td>\n",
       "      <td>-1.137852e+00</td>\n",
       "      <td>-4.337186e+00</td>\n",
       "      <td>-1.191250e+00</td>\n",
       "      <td>-6.968005e-01</td>\n",
       "    </tr>\n",
       "    <tr>\n",
       "      <th>25%</th>\n",
       "      <td>-7.466190e-01</td>\n",
       "      <td>-3.891452e-01</td>\n",
       "      <td>-5.446513e-01</td>\n",
       "      <td>-4.055539e-01</td>\n",
       "      <td>-7.174558e-01</td>\n",
       "      <td>-5.666409e-01</td>\n",
       "      <td>-5.927576e-01</td>\n",
       "      <td>-7.639023e-01</td>\n",
       "      <td>-6.366596e-01</td>\n",
       "    </tr>\n",
       "    <tr>\n",
       "      <th>50%</th>\n",
       "      <td>-4.717981e-01</td>\n",
       "      <td>-3.149097e-01</td>\n",
       "      <td>-4.091560e-01</td>\n",
       "      <td>-3.097338e-01</td>\n",
       "      <td>-3.738080e-01</td>\n",
       "      <td>-2.269504e-01</td>\n",
       "      <td>2.869576e-01</td>\n",
       "      <td>-3.564309e-01</td>\n",
       "      <td>-4.544309e-01</td>\n",
       "    </tr>\n",
       "    <tr>\n",
       "      <th>75%</th>\n",
       "      <td>5.926666e-01</td>\n",
       "      <td>-7.958645e-03</td>\n",
       "      <td>-4.442811e-02</td>\n",
       "      <td>7.713036e-02</td>\n",
       "      <td>2.942370e-01</td>\n",
       "      <td>2.816364e-01</td>\n",
       "      <td>7.042584e-01</td>\n",
       "      <td>6.175252e-01</td>\n",
       "      <td>5.942100e-02</td>\n",
       "    </tr>\n",
       "    <tr>\n",
       "      <th>max</th>\n",
       "      <td>4.221297e+00</td>\n",
       "      <td>9.839814e+00</td>\n",
       "      <td>4.235432e+00</td>\n",
       "      <td>9.716681e+00</td>\n",
       "      <td>5.611542e+00</td>\n",
       "      <td>9.129718e+00</td>\n",
       "      <td>1.380962e+00</td>\n",
       "      <td>3.009349e+00</td>\n",
       "      <td>5.036507e+00</td>\n",
       "    </tr>\n",
       "  </tbody>\n",
       "</table>\n",
       "</div>"
      ],
      "text/plain": [
       "         child_mort       exports        health       imports        income  \\\n",
       "count  1.670000e+02  1.670000e+02  1.670000e+02  1.670000e+02  1.670000e+02   \n",
       "mean  -2.659217e-17  9.174298e-17 -2.260334e-17  3.589943e-17 -7.512288e-17   \n",
       "std    1.003008e+00  1.003008e+00  1.003008e+00  1.003008e+00  1.003008e+00   \n",
       "min   -8.871383e-01 -4.140371e-01 -5.812404e-01 -4.491604e-01 -8.603259e-01   \n",
       "25%   -7.466190e-01 -3.891452e-01 -5.446513e-01 -4.055539e-01 -7.174558e-01   \n",
       "50%   -4.717981e-01 -3.149097e-01 -4.091560e-01 -3.097338e-01 -3.738080e-01   \n",
       "75%    5.926666e-01 -7.958645e-03 -4.442811e-02  7.713036e-02  2.942370e-01   \n",
       "max    4.221297e+00  9.839814e+00  4.235432e+00  9.716681e+00  5.611542e+00   \n",
       "\n",
       "          inflation    life_expec     total_fer          gdpp  \n",
       "count  1.670000e+02  1.670000e+02  1.670000e+02  1.670000e+02  \n",
       "mean   3.988825e-18  3.616535e-16  3.124580e-16  2.127373e-17  \n",
       "std    1.003008e+00  1.003008e+00  1.003008e+00  1.003008e+00  \n",
       "min   -1.137852e+00 -4.337186e+00 -1.191250e+00 -6.968005e-01  \n",
       "25%   -5.666409e-01 -5.927576e-01 -7.639023e-01 -6.366596e-01  \n",
       "50%   -2.269504e-01  2.869576e-01 -3.564309e-01 -4.544309e-01  \n",
       "75%    2.816364e-01  7.042584e-01  6.175252e-01  5.942100e-02  \n",
       "max    9.129718e+00  1.380962e+00  3.009349e+00  5.036507e+00  "
      ]
     },
     "execution_count": 445,
     "metadata": {},
     "output_type": "execute_result"
    }
   ],
   "source": [
    "df.describe()"
   ]
  },
  {
   "cell_type": "markdown",
   "id": "c3d236e4",
   "metadata": {},
   "source": [
    "<H4>PLOTING STANDARDIZED DATA <H4/>"
   ]
  },
  {
   "cell_type": "code",
   "execution_count": 446,
   "id": "10894a39",
   "metadata": {},
   "outputs": [
    {
     "data": {
      "image/png": "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\n",
      "text/plain": [
       "<Figure size 864x576 with 1 Axes>"
      ]
     },
     "metadata": {
      "needs_background": "light"
     },
     "output_type": "display_data"
    }
   ],
   "source": [
    "fig=plt.figure(figsize=(12,8))\n",
    "sbn.boxplot(data=df)\n",
    "plt.show()"
   ]
  },
  {
   "cell_type": "markdown",
   "id": "fc79c77e",
   "metadata": {},
   "source": [
    "<H4>CHECKING FOR CORRELATION BETWEEN COLUMNS<H4/>"
   ]
  },
  {
   "cell_type": "code",
   "execution_count": 447,
   "id": "66bb612c",
   "metadata": {},
   "outputs": [
    {
     "data": {
      "text/html": [
       "<div>\n",
       "<style scoped>\n",
       "    .dataframe tbody tr th:only-of-type {\n",
       "        vertical-align: middle;\n",
       "    }\n",
       "\n",
       "    .dataframe tbody tr th {\n",
       "        vertical-align: top;\n",
       "    }\n",
       "\n",
       "    .dataframe thead th {\n",
       "        text-align: right;\n",
       "    }\n",
       "</style>\n",
       "<table border=\"1\" class=\"dataframe\">\n",
       "  <thead>\n",
       "    <tr style=\"text-align: right;\">\n",
       "      <th></th>\n",
       "      <th>child_mort</th>\n",
       "      <th>exports</th>\n",
       "      <th>health</th>\n",
       "      <th>imports</th>\n",
       "      <th>income</th>\n",
       "      <th>inflation</th>\n",
       "      <th>life_expec</th>\n",
       "      <th>total_fer</th>\n",
       "      <th>gdpp</th>\n",
       "    </tr>\n",
       "  </thead>\n",
       "  <tbody>\n",
       "    <tr>\n",
       "      <th>child_mort</th>\n",
       "      <td>1.000000</td>\n",
       "      <td>-0.297230</td>\n",
       "      <td>-0.430438</td>\n",
       "      <td>-0.319138</td>\n",
       "      <td>-0.524315</td>\n",
       "      <td>0.288276</td>\n",
       "      <td>-0.886676</td>\n",
       "      <td>0.848478</td>\n",
       "      <td>-0.483032</td>\n",
       "    </tr>\n",
       "    <tr>\n",
       "      <th>exports</th>\n",
       "      <td>-0.297230</td>\n",
       "      <td>1.000000</td>\n",
       "      <td>0.612919</td>\n",
       "      <td>0.987686</td>\n",
       "      <td>0.725351</td>\n",
       "      <td>-0.141553</td>\n",
       "      <td>0.377694</td>\n",
       "      <td>-0.291096</td>\n",
       "      <td>0.768894</td>\n",
       "    </tr>\n",
       "    <tr>\n",
       "      <th>health</th>\n",
       "      <td>-0.430438</td>\n",
       "      <td>0.612919</td>\n",
       "      <td>1.000000</td>\n",
       "      <td>0.638581</td>\n",
       "      <td>0.690857</td>\n",
       "      <td>-0.253956</td>\n",
       "      <td>0.545626</td>\n",
       "      <td>-0.407984</td>\n",
       "      <td>0.916593</td>\n",
       "    </tr>\n",
       "    <tr>\n",
       "      <th>imports</th>\n",
       "      <td>-0.319138</td>\n",
       "      <td>0.987686</td>\n",
       "      <td>0.638581</td>\n",
       "      <td>1.000000</td>\n",
       "      <td>0.672056</td>\n",
       "      <td>-0.179458</td>\n",
       "      <td>0.397515</td>\n",
       "      <td>-0.317061</td>\n",
       "      <td>0.755114</td>\n",
       "    </tr>\n",
       "    <tr>\n",
       "      <th>income</th>\n",
       "      <td>-0.524315</td>\n",
       "      <td>0.725351</td>\n",
       "      <td>0.690857</td>\n",
       "      <td>0.672056</td>\n",
       "      <td>1.000000</td>\n",
       "      <td>-0.147756</td>\n",
       "      <td>0.611962</td>\n",
       "      <td>-0.501840</td>\n",
       "      <td>0.895571</td>\n",
       "    </tr>\n",
       "    <tr>\n",
       "      <th>inflation</th>\n",
       "      <td>0.288276</td>\n",
       "      <td>-0.141553</td>\n",
       "      <td>-0.253956</td>\n",
       "      <td>-0.179458</td>\n",
       "      <td>-0.147756</td>\n",
       "      <td>1.000000</td>\n",
       "      <td>-0.239705</td>\n",
       "      <td>0.316921</td>\n",
       "      <td>-0.221631</td>\n",
       "    </tr>\n",
       "    <tr>\n",
       "      <th>life_expec</th>\n",
       "      <td>-0.886676</td>\n",
       "      <td>0.377694</td>\n",
       "      <td>0.545626</td>\n",
       "      <td>0.397515</td>\n",
       "      <td>0.611962</td>\n",
       "      <td>-0.239705</td>\n",
       "      <td>1.000000</td>\n",
       "      <td>-0.760875</td>\n",
       "      <td>0.600089</td>\n",
       "    </tr>\n",
       "    <tr>\n",
       "      <th>total_fer</th>\n",
       "      <td>0.848478</td>\n",
       "      <td>-0.291096</td>\n",
       "      <td>-0.407984</td>\n",
       "      <td>-0.317061</td>\n",
       "      <td>-0.501840</td>\n",
       "      <td>0.316921</td>\n",
       "      <td>-0.760875</td>\n",
       "      <td>1.000000</td>\n",
       "      <td>-0.454910</td>\n",
       "    </tr>\n",
       "    <tr>\n",
       "      <th>gdpp</th>\n",
       "      <td>-0.483032</td>\n",
       "      <td>0.768894</td>\n",
       "      <td>0.916593</td>\n",
       "      <td>0.755114</td>\n",
       "      <td>0.895571</td>\n",
       "      <td>-0.221631</td>\n",
       "      <td>0.600089</td>\n",
       "      <td>-0.454910</td>\n",
       "      <td>1.000000</td>\n",
       "    </tr>\n",
       "  </tbody>\n",
       "</table>\n",
       "</div>"
      ],
      "text/plain": [
       "            child_mort   exports    health   imports    income  inflation  \\\n",
       "child_mort    1.000000 -0.297230 -0.430438 -0.319138 -0.524315   0.288276   \n",
       "exports      -0.297230  1.000000  0.612919  0.987686  0.725351  -0.141553   \n",
       "health       -0.430438  0.612919  1.000000  0.638581  0.690857  -0.253956   \n",
       "imports      -0.319138  0.987686  0.638581  1.000000  0.672056  -0.179458   \n",
       "income       -0.524315  0.725351  0.690857  0.672056  1.000000  -0.147756   \n",
       "inflation     0.288276 -0.141553 -0.253956 -0.179458 -0.147756   1.000000   \n",
       "life_expec   -0.886676  0.377694  0.545626  0.397515  0.611962  -0.239705   \n",
       "total_fer     0.848478 -0.291096 -0.407984 -0.317061 -0.501840   0.316921   \n",
       "gdpp         -0.483032  0.768894  0.916593  0.755114  0.895571  -0.221631   \n",
       "\n",
       "            life_expec  total_fer      gdpp  \n",
       "child_mort   -0.886676   0.848478 -0.483032  \n",
       "exports       0.377694  -0.291096  0.768894  \n",
       "health        0.545626  -0.407984  0.916593  \n",
       "imports       0.397515  -0.317061  0.755114  \n",
       "income        0.611962  -0.501840  0.895571  \n",
       "inflation    -0.239705   0.316921 -0.221631  \n",
       "life_expec    1.000000  -0.760875  0.600089  \n",
       "total_fer    -0.760875   1.000000 -0.454910  \n",
       "gdpp          0.600089  -0.454910  1.000000  "
      ]
     },
     "execution_count": 447,
     "metadata": {},
     "output_type": "execute_result"
    }
   ],
   "source": [
    "df.corr()"
   ]
  },
  {
   "cell_type": "markdown",
   "id": "7f0272b8",
   "metadata": {},
   "source": [
    "<H4>PLOTTING CORRELATION USING HEAT MAP<H4/>"
   ]
  },
  {
   "cell_type": "code",
   "execution_count": 448,
   "id": "6539dd02",
   "metadata": {},
   "outputs": [
    {
     "data": {
      "image/png": "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\n",
      "text/plain": [
       "<Figure size 1080x720 with 2 Axes>"
      ]
     },
     "metadata": {
      "needs_background": "light"
     },
     "output_type": "display_data"
    }
   ],
   "source": [
    "plt.figure(figsize = (15,10))\n",
    "sbn.heatmap(df.corr(),annot = True)\n",
    "plt.show()"
   ]
  },
  {
   "cell_type": "markdown",
   "id": "21557679",
   "metadata": {},
   "source": [
    "<H4>COPING FINAL AND ANALYSED DATA SET FOR CLUSTERING<H4/>"
   ]
  },
  {
   "cell_type": "code",
   "execution_count": 449,
   "id": "39ad72fd",
   "metadata": {},
   "outputs": [],
   "source": [
    "df1=df.copy() #for KMean clustering\n",
    "df2=df.copy() #for Hierarchical Clustering"
   ]
  },
  {
   "cell_type": "markdown",
   "id": "1755ad10",
   "metadata": {},
   "source": [
    "<H2> K MEAN  CLUSTERING <H2/>"
   ]
  },
  {
   "cell_type": "code",
   "execution_count": 450,
   "id": "bc0e60a8",
   "metadata": {},
   "outputs": [
    {
     "data": {
      "text/html": [
       "<div>\n",
       "<style scoped>\n",
       "    .dataframe tbody tr th:only-of-type {\n",
       "        vertical-align: middle;\n",
       "    }\n",
       "\n",
       "    .dataframe tbody tr th {\n",
       "        vertical-align: top;\n",
       "    }\n",
       "\n",
       "    .dataframe thead th {\n",
       "        text-align: right;\n",
       "    }\n",
       "</style>\n",
       "<table border=\"1\" class=\"dataframe\">\n",
       "  <thead>\n",
       "    <tr style=\"text-align: right;\">\n",
       "      <th></th>\n",
       "      <th>child_mort</th>\n",
       "      <th>exports</th>\n",
       "      <th>health</th>\n",
       "      <th>imports</th>\n",
       "      <th>income</th>\n",
       "      <th>inflation</th>\n",
       "      <th>life_expec</th>\n",
       "      <th>total_fer</th>\n",
       "      <th>gdpp</th>\n",
       "    </tr>\n",
       "  </thead>\n",
       "  <tbody>\n",
       "    <tr>\n",
       "      <th>0</th>\n",
       "      <td>1.291532</td>\n",
       "      <td>-0.411011</td>\n",
       "      <td>-0.565040</td>\n",
       "      <td>-0.432276</td>\n",
       "      <td>-0.808245</td>\n",
       "      <td>0.157336</td>\n",
       "      <td>-1.619092</td>\n",
       "      <td>1.902882</td>\n",
       "      <td>-0.679180</td>\n",
       "    </tr>\n",
       "    <tr>\n",
       "      <th>1</th>\n",
       "      <td>-0.538949</td>\n",
       "      <td>-0.350191</td>\n",
       "      <td>-0.439218</td>\n",
       "      <td>-0.313677</td>\n",
       "      <td>-0.375369</td>\n",
       "      <td>-0.312347</td>\n",
       "      <td>0.647866</td>\n",
       "      <td>-0.859973</td>\n",
       "      <td>-0.485623</td>\n",
       "    </tr>\n",
       "    <tr>\n",
       "      <th>2</th>\n",
       "      <td>-0.272833</td>\n",
       "      <td>-0.318526</td>\n",
       "      <td>-0.484826</td>\n",
       "      <td>-0.353720</td>\n",
       "      <td>-0.220844</td>\n",
       "      <td>0.789274</td>\n",
       "      <td>0.670423</td>\n",
       "      <td>-0.038404</td>\n",
       "      <td>-0.465376</td>\n",
       "    </tr>\n",
       "    <tr>\n",
       "      <th>3</th>\n",
       "      <td>2.007808</td>\n",
       "      <td>-0.291375</td>\n",
       "      <td>-0.532363</td>\n",
       "      <td>-0.345953</td>\n",
       "      <td>-0.585043</td>\n",
       "      <td>1.387054</td>\n",
       "      <td>-1.179234</td>\n",
       "      <td>2.128151</td>\n",
       "      <td>-0.516268</td>\n",
       "    </tr>\n",
       "    <tr>\n",
       "      <th>4</th>\n",
       "      <td>-0.695634</td>\n",
       "      <td>-0.104331</td>\n",
       "      <td>-0.178771</td>\n",
       "      <td>0.040735</td>\n",
       "      <td>0.101732</td>\n",
       "      <td>-0.601749</td>\n",
       "      <td>0.704258</td>\n",
       "      <td>-0.541946</td>\n",
       "      <td>-0.041817</td>\n",
       "    </tr>\n",
       "  </tbody>\n",
       "</table>\n",
       "</div>"
      ],
      "text/plain": [
       "   child_mort   exports    health   imports    income  inflation  life_expec  \\\n",
       "0    1.291532 -0.411011 -0.565040 -0.432276 -0.808245   0.157336   -1.619092   \n",
       "1   -0.538949 -0.350191 -0.439218 -0.313677 -0.375369  -0.312347    0.647866   \n",
       "2   -0.272833 -0.318526 -0.484826 -0.353720 -0.220844   0.789274    0.670423   \n",
       "3    2.007808 -0.291375 -0.532363 -0.345953 -0.585043   1.387054   -1.179234   \n",
       "4   -0.695634 -0.104331 -0.178771  0.040735  0.101732  -0.601749    0.704258   \n",
       "\n",
       "   total_fer      gdpp  \n",
       "0   1.902882 -0.679180  \n",
       "1  -0.859973 -0.485623  \n",
       "2  -0.038404 -0.465376  \n",
       "3   2.128151 -0.516268  \n",
       "4  -0.541946 -0.041817  "
      ]
     },
     "execution_count": 450,
     "metadata": {},
     "output_type": "execute_result"
    }
   ],
   "source": [
    "df1.head()"
   ]
  },
  {
   "cell_type": "markdown",
   "id": "67e159d8",
   "metadata": {},
   "source": [
    "<H4>FINDING K(i.e, NO. OF CLUSTER) USING ELBOW METHOD <H4/>"
   ]
  },
  {
   "cell_type": "code",
   "execution_count": 451,
   "id": "78e8b32d",
   "metadata": {},
   "outputs": [
    {
     "data": {
      "image/png": "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\n",
      "text/plain": [
       "<Figure size 432x288 with 1 Axes>"
      ]
     },
     "metadata": {
      "needs_background": "light"
     },
     "output_type": "display_data"
    }
   ],
   "source": [
    "ssd = []\n",
    "for num_clusters in list(range(1,10)):\n",
    "    model_clus = KMeans(n_clusters = num_clusters, max_iter=50)\n",
    "    model_clus.fit(df1)\n",
    "    ssd.append(model_clus.inertia_)\n",
    "\n",
    "plt.plot(ssd)\n",
    "plt.show()"
   ]
  },
  {
   "cell_type": "markdown",
   "id": "83344f40",
   "metadata": {},
   "source": [
    "<H4>PERFORMING K MEAN CLUSTERING(WITH K=3)<H4/>"
   ]
  },
  {
   "cell_type": "code",
   "execution_count": 452,
   "id": "1db9d167",
   "metadata": {},
   "outputs": [],
   "source": [
    "kmeans=KMeans(n_clusters=3)\n",
    "kmeans.fit(df1)\n",
    "cluster=kmeans.predict(df1)"
   ]
  },
  {
   "cell_type": "code",
   "execution_count": 453,
   "id": "0f166b75",
   "metadata": {},
   "outputs": [
    {
     "data": {
      "text/plain": [
       "array([0, 1, 1, 0, 1, 1, 1, 2, 2, 1, 1, 1, 1, 1, 1, 2, 1, 0, 1, 1, 1, 0,\n",
       "       1, 2, 1, 0, 0, 1, 0, 2, 1, 0, 0, 1, 1, 1, 0, 0, 0, 1, 0, 1, 2, 1,\n",
       "       2, 1, 1, 1, 1, 0, 0, 1, 1, 2, 2, 0, 0, 1, 2, 0, 1, 1, 1, 0, 0, 1,\n",
       "       0, 1, 2, 1, 1, 1, 0, 2, 1, 2, 1, 2, 1, 1, 0, 0, 2, 1, 0, 1, 1, 0,\n",
       "       0, 1, 1, 2, 1, 0, 0, 1, 1, 0, 2, 0, 1, 1, 1, 1, 1, 1, 0, 1, 0, 1,\n",
       "       2, 2, 0, 0, 2, 1, 0, 1, 1, 1, 1, 1, 1, 2, 1, 1, 0, 1, 1, 0, 1, 1,\n",
       "       0, 2, 1, 1, 0, 0, 1, 2, 1, 1, 0, 1, 2, 2, 1, 0, 1, 0, 0, 1, 1, 1,\n",
       "       1, 0, 1, 2, 2, 2, 1, 1, 1, 1, 1, 0, 0])"
      ]
     },
     "execution_count": 453,
     "metadata": {},
     "output_type": "execute_result"
    }
   ],
   "source": [
    "cluster"
   ]
  },
  {
   "cell_type": "markdown",
   "id": "e99934f1",
   "metadata": {},
   "source": [
    "<H4>FINDING CALINSKI HARABASZ SCORE TO CHECK WHEATHER K IS OPTIMAL OR NOT <H4/>"
   ]
  },
  {
   "cell_type": "code",
   "execution_count": 454,
   "id": "bc112125",
   "metadata": {},
   "outputs": [
    {
     "name": "stdout",
     "output_type": "stream",
     "text": [
      "107.20693270636296\n"
     ]
    }
   ],
   "source": [
    "print(metrics.calinski_harabasz_score(df1,cluster))"
   ]
  },
  {
   "cell_type": "markdown",
   "id": "f3d28b36",
   "metadata": {},
   "source": [
    "<H4>ADDING COLUMNS NAMED AS CLUSTER ID AND COUNTRY IN THE DATA SET<H4/>"
   ]
  },
  {
   "cell_type": "code",
   "execution_count": 455,
   "id": "e654af06",
   "metadata": {},
   "outputs": [],
   "source": [
    "df1['ClusterID']=cluster\n",
    "df1['country']=data.country\n",
    "cols = [df1.columns[-1]] + [col for col in df1 if col != df1.columns[-1]]\n",
    "df1 = df1[cols]"
   ]
  },
  {
   "cell_type": "code",
   "execution_count": 456,
   "id": "1349f832",
   "metadata": {},
   "outputs": [
    {
     "data": {
      "text/html": [
       "<div>\n",
       "<style scoped>\n",
       "    .dataframe tbody tr th:only-of-type {\n",
       "        vertical-align: middle;\n",
       "    }\n",
       "\n",
       "    .dataframe tbody tr th {\n",
       "        vertical-align: top;\n",
       "    }\n",
       "\n",
       "    .dataframe thead th {\n",
       "        text-align: right;\n",
       "    }\n",
       "</style>\n",
       "<table border=\"1\" class=\"dataframe\">\n",
       "  <thead>\n",
       "    <tr style=\"text-align: right;\">\n",
       "      <th></th>\n",
       "      <th>country</th>\n",
       "      <th>child_mort</th>\n",
       "      <th>exports</th>\n",
       "      <th>health</th>\n",
       "      <th>imports</th>\n",
       "      <th>income</th>\n",
       "      <th>inflation</th>\n",
       "      <th>life_expec</th>\n",
       "      <th>total_fer</th>\n",
       "      <th>gdpp</th>\n",
       "      <th>ClusterID</th>\n",
       "    </tr>\n",
       "  </thead>\n",
       "  <tbody>\n",
       "    <tr>\n",
       "      <th>0</th>\n",
       "      <td>Afghanistan</td>\n",
       "      <td>1.291532</td>\n",
       "      <td>-0.411011</td>\n",
       "      <td>-0.565040</td>\n",
       "      <td>-0.432276</td>\n",
       "      <td>-0.808245</td>\n",
       "      <td>0.157336</td>\n",
       "      <td>-1.619092</td>\n",
       "      <td>1.902882</td>\n",
       "      <td>-0.679180</td>\n",
       "      <td>0</td>\n",
       "    </tr>\n",
       "    <tr>\n",
       "      <th>1</th>\n",
       "      <td>Albania</td>\n",
       "      <td>-0.538949</td>\n",
       "      <td>-0.350191</td>\n",
       "      <td>-0.439218</td>\n",
       "      <td>-0.313677</td>\n",
       "      <td>-0.375369</td>\n",
       "      <td>-0.312347</td>\n",
       "      <td>0.647866</td>\n",
       "      <td>-0.859973</td>\n",
       "      <td>-0.485623</td>\n",
       "      <td>1</td>\n",
       "    </tr>\n",
       "    <tr>\n",
       "      <th>2</th>\n",
       "      <td>Algeria</td>\n",
       "      <td>-0.272833</td>\n",
       "      <td>-0.318526</td>\n",
       "      <td>-0.484826</td>\n",
       "      <td>-0.353720</td>\n",
       "      <td>-0.220844</td>\n",
       "      <td>0.789274</td>\n",
       "      <td>0.670423</td>\n",
       "      <td>-0.038404</td>\n",
       "      <td>-0.465376</td>\n",
       "      <td>1</td>\n",
       "    </tr>\n",
       "    <tr>\n",
       "      <th>3</th>\n",
       "      <td>Angola</td>\n",
       "      <td>2.007808</td>\n",
       "      <td>-0.291375</td>\n",
       "      <td>-0.532363</td>\n",
       "      <td>-0.345953</td>\n",
       "      <td>-0.585043</td>\n",
       "      <td>1.387054</td>\n",
       "      <td>-1.179234</td>\n",
       "      <td>2.128151</td>\n",
       "      <td>-0.516268</td>\n",
       "      <td>0</td>\n",
       "    </tr>\n",
       "    <tr>\n",
       "      <th>4</th>\n",
       "      <td>Antigua and Barbuda</td>\n",
       "      <td>-0.695634</td>\n",
       "      <td>-0.104331</td>\n",
       "      <td>-0.178771</td>\n",
       "      <td>0.040735</td>\n",
       "      <td>0.101732</td>\n",
       "      <td>-0.601749</td>\n",
       "      <td>0.704258</td>\n",
       "      <td>-0.541946</td>\n",
       "      <td>-0.041817</td>\n",
       "      <td>1</td>\n",
       "    </tr>\n",
       "  </tbody>\n",
       "</table>\n",
       "</div>"
      ],
      "text/plain": [
       "               country  child_mort   exports    health   imports    income  \\\n",
       "0          Afghanistan    1.291532 -0.411011 -0.565040 -0.432276 -0.808245   \n",
       "1              Albania   -0.538949 -0.350191 -0.439218 -0.313677 -0.375369   \n",
       "2              Algeria   -0.272833 -0.318526 -0.484826 -0.353720 -0.220844   \n",
       "3               Angola    2.007808 -0.291375 -0.532363 -0.345953 -0.585043   \n",
       "4  Antigua and Barbuda   -0.695634 -0.104331 -0.178771  0.040735  0.101732   \n",
       "\n",
       "   inflation  life_expec  total_fer      gdpp  ClusterID  \n",
       "0   0.157336   -1.619092   1.902882 -0.679180          0  \n",
       "1  -0.312347    0.647866  -0.859973 -0.485623          1  \n",
       "2   0.789274    0.670423  -0.038404 -0.465376          1  \n",
       "3   1.387054   -1.179234   2.128151 -0.516268          0  \n",
       "4  -0.601749    0.704258  -0.541946 -0.041817          1  "
      ]
     },
     "execution_count": 456,
     "metadata": {},
     "output_type": "execute_result"
    }
   ],
   "source": [
    "df1.head()"
   ]
  },
  {
   "cell_type": "markdown",
   "id": "3e27a4ae",
   "metadata": {},
   "source": [
    "<H4>ANALYSIZING  THE CLUSTERS  USING BOXPLOT<H4/>"
   ]
  },
  {
   "cell_type": "code",
   "execution_count": 457,
   "id": "b53c0920",
   "metadata": {},
   "outputs": [
    {
     "data": {
      "image/png": "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\n",
      "text/plain": [
       "<Figure size 1440x1440 with 9 Axes>"
      ]
     },
     "metadata": {
      "needs_background": "light"
     },
     "output_type": "display_data"
    }
   ],
   "source": [
    "import seaborn as sns\n",
    "l=['child_mort', 'exports', 'health', 'imports', 'income',\n",
    "       'inflation', 'life_expec', 'total_fer', 'gdpp']\n",
    "plt.figure(figsize=(20,20))\n",
    "for i in range(len(l)):\n",
    "    plt.subplot(3,3,i+1)\n",
    "    sns.boxplot(df1.ClusterID,df1[l[i]])\n",
    "    plt.title(l[i])"
   ]
  },
  {
   "cell_type": "markdown",
   "id": "bff5a2db",
   "metadata": {},
   "source": [
    "<H4> DEFINING THE UNDERDEVELOPED COUNTRIES BY ANALYSING THE CLUSTERS<H4/>"
   ]
  },
  {
   "cell_type": "code",
   "execution_count": 458,
   "id": "d516427e",
   "metadata": {},
   "outputs": [],
   "source": [
    "UNDERDEVELOPED_COUNTRIES= df1[df1['ClusterID']==0]"
   ]
  },
  {
   "cell_type": "code",
   "execution_count": 459,
   "id": "c3295293",
   "metadata": {},
   "outputs": [
    {
     "data": {
      "text/plain": [
       "(48, 11)"
      ]
     },
     "execution_count": 459,
     "metadata": {},
     "output_type": "execute_result"
    }
   ],
   "source": [
    "UNDERDEVELOPED_COUNTRIES.shape"
   ]
  },
  {
   "cell_type": "code",
   "execution_count": 460,
   "id": "0a4df4c5",
   "metadata": {},
   "outputs": [
    {
     "data": {
      "text/plain": [
       "0                   Afghanistan\n",
       "3                        Angola\n",
       "17                        Benin\n",
       "21                     Botswana\n",
       "25                 Burkina Faso\n",
       "26                      Burundi\n",
       "28                     Cameroon\n",
       "31     Central African Republic\n",
       "32                         Chad\n",
       "36                      Comoros\n",
       "37             Congo, Dem. Rep.\n",
       "38                  Congo, Rep.\n",
       "40                Cote d'Ivoire\n",
       "49            Equatorial Guinea\n",
       "50                      Eritrea\n",
       "55                        Gabon\n",
       "56                       Gambia\n",
       "59                        Ghana\n",
       "63                       Guinea\n",
       "64                Guinea-Bissau\n",
       "66                        Haiti\n",
       "72                         Iraq\n",
       "80                        Kenya\n",
       "81                     Kiribati\n",
       "84                          Lao\n",
       "87                      Lesotho\n",
       "88                      Liberia\n",
       "93                   Madagascar\n",
       "94                       Malawi\n",
       "97                         Mali\n",
       "99                   Mauritania\n",
       "106                  Mozambique\n",
       "108                     Namibia\n",
       "112                       Niger\n",
       "113                     Nigeria\n",
       "116                    Pakistan\n",
       "126                      Rwanda\n",
       "129                     Senegal\n",
       "132                Sierra Leone\n",
       "136             Solomon Islands\n",
       "137                South Africa\n",
       "142                       Sudan\n",
       "147                    Tanzania\n",
       "149                 Timor-Leste\n",
       "150                        Togo\n",
       "155                      Uganda\n",
       "165                       Yemen\n",
       "166                      Zambia\n",
       "Name: country, dtype: object"
      ]
     },
     "execution_count": 460,
     "metadata": {},
     "output_type": "execute_result"
    }
   ],
   "source": [
    "UNDERDEVELOPED_COUNTRIES.country"
   ]
  },
  {
   "cell_type": "markdown",
   "id": "1adc2c0d",
   "metadata": {},
   "source": [
    "<H2>HEIRARCHICAL CLUSTERING<H2/>"
   ]
  },
  {
   "cell_type": "code",
   "execution_count": 461,
   "id": "b6e54077",
   "metadata": {},
   "outputs": [
    {
     "data": {
      "text/html": [
       "<div>\n",
       "<style scoped>\n",
       "    .dataframe tbody tr th:only-of-type {\n",
       "        vertical-align: middle;\n",
       "    }\n",
       "\n",
       "    .dataframe tbody tr th {\n",
       "        vertical-align: top;\n",
       "    }\n",
       "\n",
       "    .dataframe thead th {\n",
       "        text-align: right;\n",
       "    }\n",
       "</style>\n",
       "<table border=\"1\" class=\"dataframe\">\n",
       "  <thead>\n",
       "    <tr style=\"text-align: right;\">\n",
       "      <th></th>\n",
       "      <th>child_mort</th>\n",
       "      <th>exports</th>\n",
       "      <th>health</th>\n",
       "      <th>imports</th>\n",
       "      <th>income</th>\n",
       "      <th>inflation</th>\n",
       "      <th>life_expec</th>\n",
       "      <th>total_fer</th>\n",
       "      <th>gdpp</th>\n",
       "    </tr>\n",
       "  </thead>\n",
       "  <tbody>\n",
       "    <tr>\n",
       "      <th>0</th>\n",
       "      <td>1.291532</td>\n",
       "      <td>-0.411011</td>\n",
       "      <td>-0.565040</td>\n",
       "      <td>-0.432276</td>\n",
       "      <td>-0.808245</td>\n",
       "      <td>0.157336</td>\n",
       "      <td>-1.619092</td>\n",
       "      <td>1.902882</td>\n",
       "      <td>-0.679180</td>\n",
       "    </tr>\n",
       "    <tr>\n",
       "      <th>1</th>\n",
       "      <td>-0.538949</td>\n",
       "      <td>-0.350191</td>\n",
       "      <td>-0.439218</td>\n",
       "      <td>-0.313677</td>\n",
       "      <td>-0.375369</td>\n",
       "      <td>-0.312347</td>\n",
       "      <td>0.647866</td>\n",
       "      <td>-0.859973</td>\n",
       "      <td>-0.485623</td>\n",
       "    </tr>\n",
       "    <tr>\n",
       "      <th>2</th>\n",
       "      <td>-0.272833</td>\n",
       "      <td>-0.318526</td>\n",
       "      <td>-0.484826</td>\n",
       "      <td>-0.353720</td>\n",
       "      <td>-0.220844</td>\n",
       "      <td>0.789274</td>\n",
       "      <td>0.670423</td>\n",
       "      <td>-0.038404</td>\n",
       "      <td>-0.465376</td>\n",
       "    </tr>\n",
       "    <tr>\n",
       "      <th>3</th>\n",
       "      <td>2.007808</td>\n",
       "      <td>-0.291375</td>\n",
       "      <td>-0.532363</td>\n",
       "      <td>-0.345953</td>\n",
       "      <td>-0.585043</td>\n",
       "      <td>1.387054</td>\n",
       "      <td>-1.179234</td>\n",
       "      <td>2.128151</td>\n",
       "      <td>-0.516268</td>\n",
       "    </tr>\n",
       "    <tr>\n",
       "      <th>4</th>\n",
       "      <td>-0.695634</td>\n",
       "      <td>-0.104331</td>\n",
       "      <td>-0.178771</td>\n",
       "      <td>0.040735</td>\n",
       "      <td>0.101732</td>\n",
       "      <td>-0.601749</td>\n",
       "      <td>0.704258</td>\n",
       "      <td>-0.541946</td>\n",
       "      <td>-0.041817</td>\n",
       "    </tr>\n",
       "  </tbody>\n",
       "</table>\n",
       "</div>"
      ],
      "text/plain": [
       "   child_mort   exports    health   imports    income  inflation  life_expec  \\\n",
       "0    1.291532 -0.411011 -0.565040 -0.432276 -0.808245   0.157336   -1.619092   \n",
       "1   -0.538949 -0.350191 -0.439218 -0.313677 -0.375369  -0.312347    0.647866   \n",
       "2   -0.272833 -0.318526 -0.484826 -0.353720 -0.220844   0.789274    0.670423   \n",
       "3    2.007808 -0.291375 -0.532363 -0.345953 -0.585043   1.387054   -1.179234   \n",
       "4   -0.695634 -0.104331 -0.178771  0.040735  0.101732  -0.601749    0.704258   \n",
       "\n",
       "   total_fer      gdpp  \n",
       "0   1.902882 -0.679180  \n",
       "1  -0.859973 -0.485623  \n",
       "2  -0.038404 -0.465376  \n",
       "3   2.128151 -0.516268  \n",
       "4  -0.541946 -0.041817  "
      ]
     },
     "execution_count": 461,
     "metadata": {},
     "output_type": "execute_result"
    }
   ],
   "source": [
    "df2.head()"
   ]
  },
  {
   "cell_type": "markdown",
   "id": "6f2dcd9d",
   "metadata": {},
   "source": [
    "<H4>MAKING DENDOGRAM USING SINGLE LINKAGE METHOD <H4/>"
   ]
  },
  {
   "cell_type": "code",
   "execution_count": 462,
   "id": "6adbfc70",
   "metadata": {},
   "outputs": [
    {
     "data": {
      "image/png": "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\n",
      "text/plain": [
       "<Figure size 432x288 with 1 Axes>"
      ]
     },
     "metadata": {
      "needs_background": "light"
     },
     "output_type": "display_data"
    }
   ],
   "source": [
    "mergings=linkage(df,method='single',metric='euclidean')\n",
    "dendrogram(mergings)\n",
    "plt.show()"
   ]
  },
  {
   "cell_type": "markdown",
   "id": "20e02de7",
   "metadata": {},
   "source": [
    "<H4>MAKING DENDOGRAM USING COMPLETE LINKAGE METHOD <H4/>"
   ]
  },
  {
   "cell_type": "code",
   "execution_count": 463,
   "id": "c150ec38",
   "metadata": {},
   "outputs": [
    {
     "data": {
      "image/png": "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\n",
      "text/plain": [
       "<Figure size 432x288 with 1 Axes>"
      ]
     },
     "metadata": {
      "needs_background": "light"
     },
     "output_type": "display_data"
    }
   ],
   "source": [
    "mergings=linkage(df2,method='complete',metric='euclidean')\n",
    "dendrogram(mergings)\n",
    "plt.show()"
   ]
  },
  {
   "cell_type": "markdown",
   "id": "a37bb8ae",
   "metadata": {},
   "source": [
    "<H4>MAKING DENDOGRAM USING WARD LINKAGE METHOD <H4/>"
   ]
  },
  {
   "cell_type": "code",
   "execution_count": 464,
   "id": "0fde444a",
   "metadata": {},
   "outputs": [
    {
     "data": {
      "image/png": "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\n",
      "text/plain": [
       "<Figure size 1440x1440 with 1 Axes>"
      ]
     },
     "metadata": {
      "needs_background": "light"
     },
     "output_type": "display_data"
    }
   ],
   "source": [
    "plt.figure(figsize=(20,20))\n",
    "dend = dendrogram(linkage(df2,method = 'ward'),orientation=\"right\")\n",
    "plt.show()"
   ]
  },
  {
   "cell_type": "markdown",
   "id": "f423e381",
   "metadata": {},
   "source": [
    "<h4>PERFORMING AGGLOMERATIVE CLUSTERING USING K=3<h4/>"
   ]
  },
  {
   "cell_type": "code",
   "execution_count": 465,
   "id": "69b82a57",
   "metadata": {},
   "outputs": [
    {
     "data": {
      "text/plain": [
       "AgglomerativeClustering(n_clusters=3)"
      ]
     },
     "execution_count": 465,
     "metadata": {},
     "output_type": "execute_result"
    }
   ],
   "source": [
    "model = AgglomerativeClustering(n_clusters=3, affinity='euclidean', linkage='ward')\n",
    "model.fit(df2)\n",
    "\n",
    "\n"
   ]
  },
  {
   "cell_type": "markdown",
   "id": "7d253013",
   "metadata": {},
   "source": [
    "<H4>ADDING COLUMN NAMED AS \"LABEL\" IN DATA SET<H4/>"
   ]
  },
  {
   "cell_type": "code",
   "execution_count": 466,
   "id": "e94fe7bf",
   "metadata": {},
   "outputs": [
    {
     "data": {
      "text/plain": [
       "0      1\n",
       "1      2\n",
       "2      2\n",
       "3      1\n",
       "4      2\n",
       "      ..\n",
       "162    1\n",
       "163    2\n",
       "164    2\n",
       "165    1\n",
       "166    1\n",
       "Name: labels, Length: 167, dtype: int64"
      ]
     },
     "execution_count": 466,
     "metadata": {},
     "output_type": "execute_result"
    }
   ],
   "source": [
    "df2['labels'] = model.labels_\n",
    "df2.labels"
   ]
  },
  {
   "cell_type": "markdown",
   "id": "4c32740c",
   "metadata": {},
   "source": [
    "<H4>FINDING CALINSKI HARABASZ SCORE TO CHECK WHEATHER K IS OPTIMAL OR NOT <H4/>"
   ]
  },
  {
   "cell_type": "code",
   "execution_count": 467,
   "id": "b9050d6f",
   "metadata": {},
   "outputs": [
    {
     "name": "stdout",
     "output_type": "stream",
     "text": [
      "106.07993466971344\n"
     ]
    }
   ],
   "source": [
    "print(metrics.calinski_harabasz_score(df2,df2.labels))"
   ]
  },
  {
   "cell_type": "markdown",
   "id": "d566c979",
   "metadata": {},
   "source": [
    "<H4>MAKING SCATTERED GRAPH BETWEEN HEALTH VS GDPPP<H4/>"
   ]
  },
  {
   "cell_type": "code",
   "execution_count": 468,
   "id": "ef0decbc",
   "metadata": {},
   "outputs": [
    {
     "data": {
      "image/png": "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\n",
      "text/plain": [
       "<Figure size 720x360 with 1 Axes>"
      ]
     },
     "metadata": {
      "needs_background": "light"
     },
     "output_type": "display_data"
    }
   ],
   "source": [
    "fig,ax=plt.subplots(figsize=(10,5))\n",
    "scatter =ax.scatter(df2.health,df2.gdpp,c=model.labels_,cmap='rainbow')\n",
    "legend=ax.legend(*scatter.legend_elements(),title=\"Clusters\",bbox_to_anchor=(1,1))\n",
    "ax.add_artist(legend)\n",
    "\n",
    "plt.title(\"Scatter plot of clusters\")\n",
    "plt.show()"
   ]
  },
  {
   "cell_type": "markdown",
   "id": "a6ca6df2",
   "metadata": {},
   "source": [
    "<H4>ADDING COUNTRY COLUMN IN THE CLUSTERED DATA SET<H4/>"
   ]
  },
  {
   "cell_type": "code",
   "execution_count": 469,
   "id": "0cac59d6",
   "metadata": {},
   "outputs": [
    {
     "data": {
      "text/html": [
       "<div>\n",
       "<style scoped>\n",
       "    .dataframe tbody tr th:only-of-type {\n",
       "        vertical-align: middle;\n",
       "    }\n",
       "\n",
       "    .dataframe tbody tr th {\n",
       "        vertical-align: top;\n",
       "    }\n",
       "\n",
       "    .dataframe thead th {\n",
       "        text-align: right;\n",
       "    }\n",
       "</style>\n",
       "<table border=\"1\" class=\"dataframe\">\n",
       "  <thead>\n",
       "    <tr style=\"text-align: right;\">\n",
       "      <th></th>\n",
       "      <th>country</th>\n",
       "      <th>child_mort</th>\n",
       "      <th>exports</th>\n",
       "      <th>health</th>\n",
       "      <th>imports</th>\n",
       "      <th>income</th>\n",
       "      <th>inflation</th>\n",
       "      <th>life_expec</th>\n",
       "      <th>total_fer</th>\n",
       "      <th>gdpp</th>\n",
       "      <th>labels</th>\n",
       "    </tr>\n",
       "  </thead>\n",
       "  <tbody>\n",
       "    <tr>\n",
       "      <th>0</th>\n",
       "      <td>Afghanistan</td>\n",
       "      <td>1.291532</td>\n",
       "      <td>-0.411011</td>\n",
       "      <td>-0.565040</td>\n",
       "      <td>-0.432276</td>\n",
       "      <td>-0.808245</td>\n",
       "      <td>0.157336</td>\n",
       "      <td>-1.619092</td>\n",
       "      <td>1.902882</td>\n",
       "      <td>-0.679180</td>\n",
       "      <td>1</td>\n",
       "    </tr>\n",
       "    <tr>\n",
       "      <th>1</th>\n",
       "      <td>Albania</td>\n",
       "      <td>-0.538949</td>\n",
       "      <td>-0.350191</td>\n",
       "      <td>-0.439218</td>\n",
       "      <td>-0.313677</td>\n",
       "      <td>-0.375369</td>\n",
       "      <td>-0.312347</td>\n",
       "      <td>0.647866</td>\n",
       "      <td>-0.859973</td>\n",
       "      <td>-0.485623</td>\n",
       "      <td>2</td>\n",
       "    </tr>\n",
       "    <tr>\n",
       "      <th>2</th>\n",
       "      <td>Algeria</td>\n",
       "      <td>-0.272833</td>\n",
       "      <td>-0.318526</td>\n",
       "      <td>-0.484826</td>\n",
       "      <td>-0.353720</td>\n",
       "      <td>-0.220844</td>\n",
       "      <td>0.789274</td>\n",
       "      <td>0.670423</td>\n",
       "      <td>-0.038404</td>\n",
       "      <td>-0.465376</td>\n",
       "      <td>2</td>\n",
       "    </tr>\n",
       "    <tr>\n",
       "      <th>3</th>\n",
       "      <td>Angola</td>\n",
       "      <td>2.007808</td>\n",
       "      <td>-0.291375</td>\n",
       "      <td>-0.532363</td>\n",
       "      <td>-0.345953</td>\n",
       "      <td>-0.585043</td>\n",
       "      <td>1.387054</td>\n",
       "      <td>-1.179234</td>\n",
       "      <td>2.128151</td>\n",
       "      <td>-0.516268</td>\n",
       "      <td>1</td>\n",
       "    </tr>\n",
       "    <tr>\n",
       "      <th>4</th>\n",
       "      <td>Antigua and Barbuda</td>\n",
       "      <td>-0.695634</td>\n",
       "      <td>-0.104331</td>\n",
       "      <td>-0.178771</td>\n",
       "      <td>0.040735</td>\n",
       "      <td>0.101732</td>\n",
       "      <td>-0.601749</td>\n",
       "      <td>0.704258</td>\n",
       "      <td>-0.541946</td>\n",
       "      <td>-0.041817</td>\n",
       "      <td>2</td>\n",
       "    </tr>\n",
       "  </tbody>\n",
       "</table>\n",
       "</div>"
      ],
      "text/plain": [
       "               country  child_mort   exports    health   imports    income  \\\n",
       "0          Afghanistan    1.291532 -0.411011 -0.565040 -0.432276 -0.808245   \n",
       "1              Albania   -0.538949 -0.350191 -0.439218 -0.313677 -0.375369   \n",
       "2              Algeria   -0.272833 -0.318526 -0.484826 -0.353720 -0.220844   \n",
       "3               Angola    2.007808 -0.291375 -0.532363 -0.345953 -0.585043   \n",
       "4  Antigua and Barbuda   -0.695634 -0.104331 -0.178771  0.040735  0.101732   \n",
       "\n",
       "   inflation  life_expec  total_fer      gdpp  labels  \n",
       "0   0.157336   -1.619092   1.902882 -0.679180       1  \n",
       "1  -0.312347    0.647866  -0.859973 -0.485623       2  \n",
       "2   0.789274    0.670423  -0.038404 -0.465376       2  \n",
       "3   1.387054   -1.179234   2.128151 -0.516268       1  \n",
       "4  -0.601749    0.704258  -0.541946 -0.041817       2  "
      ]
     },
     "execution_count": 469,
     "metadata": {},
     "output_type": "execute_result"
    }
   ],
   "source": [
    "df2['country']=data.country\n",
    "cols = [df2.columns[-1]] + [col for col in df2 if col != df2.columns[-1]]\n",
    "df2 = df2[cols]\n",
    "df2.head()"
   ]
  },
  {
   "cell_type": "markdown",
   "id": "3aac581b",
   "metadata": {},
   "source": [
    "<H4>ANALYSIZING CLUSTERS USING BOXPLOT<H4/>"
   ]
  },
  {
   "cell_type": "code",
   "execution_count": 470,
   "id": "a0984c7a",
   "metadata": {},
   "outputs": [
    {
     "data": {
      "image/png": "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\n",
      "text/plain": [
       "<Figure size 1440x1440 with 9 Axes>"
      ]
     },
     "metadata": {
      "needs_background": "light"
     },
     "output_type": "display_data"
    }
   ],
   "source": [
    "import seaborn as sns\n",
    "l=['child_mort', 'exports', 'health', 'imports', 'income',\n",
    "       'inflation', 'life_expec', 'total_fer', 'gdpp']\n",
    "plt.figure(figsize=(20,20))\n",
    "for i in range(len(l)):\n",
    "    plt.subplot(3,3,i+1)\n",
    "    sns.boxplot(df2.labels,df2[l[i]])\n",
    "    plt.title(l[i])"
   ]
  },
  {
   "cell_type": "markdown",
   "id": "05ddfae2",
   "metadata": {},
   "source": [
    "<H4>DEFINING UNDERDEVELOPED COUNTRIES FROM CLUSTERS <H4/>"
   ]
  },
  {
   "cell_type": "code",
   "execution_count": 471,
   "id": "3b246c9d",
   "metadata": {},
   "outputs": [],
   "source": [
    "UNDERDEVELOPED= df2[df2['labels']==1]"
   ]
  },
  {
   "cell_type": "code",
   "execution_count": 472,
   "id": "17e2c86a",
   "metadata": {},
   "outputs": [
    {
     "data": {
      "text/plain": [
       "(70,)"
      ]
     },
     "execution_count": 472,
     "metadata": {},
     "output_type": "execute_result"
    }
   ],
   "source": [
    "UNDERDEVELOPED.country.shape"
   ]
  },
  {
   "cell_type": "markdown",
   "id": "b7ad1fdd",
   "metadata": {},
   "source": [
    "<h2>CONCLUSION<h2/>"
   ]
  },
  {
   "cell_type": "markdown",
   "id": "5e9ecbe3",
   "metadata": {},
   "source": [
    "<B>AS WE HAVE COMPARED THE  CALINSKI HARABASZ SCORE FOR BOTH CLUSTERING THAT IS K MEAN CLUSTERING AND HEIRARCHICAL CLUSTERING, WE CONCLUCED THAT THE UNDERDEVELOPED COUNTRIES CATERGORIESED USING KMEAN CLUSTERING IS OPTIMAL BECOUSE  CALINSKI HARABASZ SCORE OF KMEAN CLUSTERING IS GREATER THAN HEIRARCHICAL CLUSTERING<B/>  "
   ]
  },
  {
   "cell_type": "markdown",
   "id": "89d3069a",
   "metadata": {},
   "source": [
    "<H3>LIST OF COUNTERIES BASED ON SOCIO-ECOMIC FACTORS AND HEALTH FACTOR WHICH ARE IN DIRECT NEED OF AID <H3/>"
   ]
  },
  {
   "cell_type": "code",
   "execution_count": 473,
   "id": "ce7ecb53",
   "metadata": {},
   "outputs": [
    {
     "data": {
      "text/plain": [
       "0                   Afghanistan\n",
       "3                        Angola\n",
       "17                        Benin\n",
       "21                     Botswana\n",
       "25                 Burkina Faso\n",
       "26                      Burundi\n",
       "28                     Cameroon\n",
       "31     Central African Republic\n",
       "32                         Chad\n",
       "36                      Comoros\n",
       "37             Congo, Dem. Rep.\n",
       "38                  Congo, Rep.\n",
       "40                Cote d'Ivoire\n",
       "49            Equatorial Guinea\n",
       "50                      Eritrea\n",
       "55                        Gabon\n",
       "56                       Gambia\n",
       "59                        Ghana\n",
       "63                       Guinea\n",
       "64                Guinea-Bissau\n",
       "66                        Haiti\n",
       "72                         Iraq\n",
       "80                        Kenya\n",
       "81                     Kiribati\n",
       "84                          Lao\n",
       "87                      Lesotho\n",
       "88                      Liberia\n",
       "93                   Madagascar\n",
       "94                       Malawi\n",
       "97                         Mali\n",
       "99                   Mauritania\n",
       "106                  Mozambique\n",
       "108                     Namibia\n",
       "112                       Niger\n",
       "113                     Nigeria\n",
       "116                    Pakistan\n",
       "126                      Rwanda\n",
       "129                     Senegal\n",
       "132                Sierra Leone\n",
       "136             Solomon Islands\n",
       "137                South Africa\n",
       "142                       Sudan\n",
       "147                    Tanzania\n",
       "149                 Timor-Leste\n",
       "150                        Togo\n",
       "155                      Uganda\n",
       "165                       Yemen\n",
       "166                      Zambia\n",
       "Name: country, dtype: object"
      ]
     },
     "execution_count": 473,
     "metadata": {},
     "output_type": "execute_result"
    }
   ],
   "source": [
    "UNDERDEVELOPED_COUNTRIES.country"
   ]
  },
  {
   "cell_type": "markdown",
   "id": "d8fc0ad6",
   "metadata": {},
   "source": [
    "<h3>FINALIZED DATASET<h3/>"
   ]
  },
  {
   "cell_type": "code",
   "execution_count": 474,
   "id": "2c61d2ae",
   "metadata": {},
   "outputs": [],
   "source": [
    "df1.ClusterID.replace(0,\"Under_Developed\",inplace=True)\n",
    "df1.ClusterID.replace(1,\"Developed\",inplace=True)\n",
    "df1.ClusterID.replace(2,\"Developing\",inplace=True)"
   ]
  },
  {
   "cell_type": "code",
   "execution_count": 475,
   "id": "76532191",
   "metadata": {},
   "outputs": [
    {
     "data": {
      "text/html": [
       "<div>\n",
       "<style scoped>\n",
       "    .dataframe tbody tr th:only-of-type {\n",
       "        vertical-align: middle;\n",
       "    }\n",
       "\n",
       "    .dataframe tbody tr th {\n",
       "        vertical-align: top;\n",
       "    }\n",
       "\n",
       "    .dataframe thead th {\n",
       "        text-align: right;\n",
       "    }\n",
       "</style>\n",
       "<table border=\"1\" class=\"dataframe\">\n",
       "  <thead>\n",
       "    <tr style=\"text-align: right;\">\n",
       "      <th></th>\n",
       "      <th>country</th>\n",
       "      <th>child_mort</th>\n",
       "      <th>exports</th>\n",
       "      <th>health</th>\n",
       "      <th>imports</th>\n",
       "      <th>income</th>\n",
       "      <th>inflation</th>\n",
       "      <th>life_expec</th>\n",
       "      <th>total_fer</th>\n",
       "      <th>gdpp</th>\n",
       "      <th>ClusterID</th>\n",
       "    </tr>\n",
       "  </thead>\n",
       "  <tbody>\n",
       "    <tr>\n",
       "      <th>0</th>\n",
       "      <td>Afghanistan</td>\n",
       "      <td>1.291532</td>\n",
       "      <td>-0.411011</td>\n",
       "      <td>-0.565040</td>\n",
       "      <td>-0.432276</td>\n",
       "      <td>-0.808245</td>\n",
       "      <td>0.157336</td>\n",
       "      <td>-1.619092</td>\n",
       "      <td>1.902882</td>\n",
       "      <td>-0.679180</td>\n",
       "      <td>Under_Developed</td>\n",
       "    </tr>\n",
       "    <tr>\n",
       "      <th>1</th>\n",
       "      <td>Albania</td>\n",
       "      <td>-0.538949</td>\n",
       "      <td>-0.350191</td>\n",
       "      <td>-0.439218</td>\n",
       "      <td>-0.313677</td>\n",
       "      <td>-0.375369</td>\n",
       "      <td>-0.312347</td>\n",
       "      <td>0.647866</td>\n",
       "      <td>-0.859973</td>\n",
       "      <td>-0.485623</td>\n",
       "      <td>Developed</td>\n",
       "    </tr>\n",
       "    <tr>\n",
       "      <th>2</th>\n",
       "      <td>Algeria</td>\n",
       "      <td>-0.272833</td>\n",
       "      <td>-0.318526</td>\n",
       "      <td>-0.484826</td>\n",
       "      <td>-0.353720</td>\n",
       "      <td>-0.220844</td>\n",
       "      <td>0.789274</td>\n",
       "      <td>0.670423</td>\n",
       "      <td>-0.038404</td>\n",
       "      <td>-0.465376</td>\n",
       "      <td>Developed</td>\n",
       "    </tr>\n",
       "    <tr>\n",
       "      <th>3</th>\n",
       "      <td>Angola</td>\n",
       "      <td>2.007808</td>\n",
       "      <td>-0.291375</td>\n",
       "      <td>-0.532363</td>\n",
       "      <td>-0.345953</td>\n",
       "      <td>-0.585043</td>\n",
       "      <td>1.387054</td>\n",
       "      <td>-1.179234</td>\n",
       "      <td>2.128151</td>\n",
       "      <td>-0.516268</td>\n",
       "      <td>Under_Developed</td>\n",
       "    </tr>\n",
       "    <tr>\n",
       "      <th>4</th>\n",
       "      <td>Antigua and Barbuda</td>\n",
       "      <td>-0.695634</td>\n",
       "      <td>-0.104331</td>\n",
       "      <td>-0.178771</td>\n",
       "      <td>0.040735</td>\n",
       "      <td>0.101732</td>\n",
       "      <td>-0.601749</td>\n",
       "      <td>0.704258</td>\n",
       "      <td>-0.541946</td>\n",
       "      <td>-0.041817</td>\n",
       "      <td>Developed</td>\n",
       "    </tr>\n",
       "  </tbody>\n",
       "</table>\n",
       "</div>"
      ],
      "text/plain": [
       "               country  child_mort   exports    health   imports    income  \\\n",
       "0          Afghanistan    1.291532 -0.411011 -0.565040 -0.432276 -0.808245   \n",
       "1              Albania   -0.538949 -0.350191 -0.439218 -0.313677 -0.375369   \n",
       "2              Algeria   -0.272833 -0.318526 -0.484826 -0.353720 -0.220844   \n",
       "3               Angola    2.007808 -0.291375 -0.532363 -0.345953 -0.585043   \n",
       "4  Antigua and Barbuda   -0.695634 -0.104331 -0.178771  0.040735  0.101732   \n",
       "\n",
       "   inflation  life_expec  total_fer      gdpp        ClusterID  \n",
       "0   0.157336   -1.619092   1.902882 -0.679180  Under_Developed  \n",
       "1  -0.312347    0.647866  -0.859973 -0.485623        Developed  \n",
       "2   0.789274    0.670423  -0.038404 -0.465376        Developed  \n",
       "3   1.387054   -1.179234   2.128151 -0.516268  Under_Developed  \n",
       "4  -0.601749    0.704258  -0.541946 -0.041817        Developed  "
      ]
     },
     "execution_count": 475,
     "metadata": {},
     "output_type": "execute_result"
    }
   ],
   "source": [
    "df1.head()"
   ]
  },
  {
   "cell_type": "code",
   "execution_count": null,
   "id": "6f078149",
   "metadata": {},
   "outputs": [],
   "source": []
  }
 ],
 "metadata": {
  "kernelspec": {
   "display_name": "Python 3 (ipykernel)",
   "language": "python",
   "name": "python3"
  },
  "language_info": {
   "codemirror_mode": {
    "name": "ipython",
    "version": 3
   },
   "file_extension": ".py",
   "mimetype": "text/x-python",
   "name": "python",
   "nbconvert_exporter": "python",
   "pygments_lexer": "ipython3",
   "version": "3.9.12"
  }
 },
 "nbformat": 4,
 "nbformat_minor": 5
}
